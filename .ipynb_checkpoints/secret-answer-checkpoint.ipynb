{
 "cells": [
  {
   "cell_type": "code",
   "execution_count": 17,
   "metadata": {},
   "outputs": [],
   "source": [
    "import math\n",
    "\n",
    "import torch\n",
    "from pytorch_lightning import LightningDataModule, LightningModule, Trainer\n",
    "import pytorch_lightning as pl\n",
    "from filelock import FileLock\n",
    "from torch.utils.data import DataLoader, random_split\n",
    "from torch.nn import functional as F\n",
    "from torchvision.datasets import MNIST\n",
    "from torchvision import transforms\n",
    "import torchvision\n",
    "import os\n",
    "import monai\n",
    "from monai.networks.layers.factories import Act, Norm\n",
    "from losses import *\n",
    "from hyperopt import hp\n",
    "from ray.tune.suggest.hyperopt import HyperOptSearch\n",
    "import numpy as np\n",
    "\n",
    "# from source.ray_utils import * # create_search_space, create_test_search_space\n",
    "\n",
    "# import source.transforms as transforms\n",
    "# import source.transforms.oral_cavity_transforms as transforms\n",
    "# import source.losses as losses\n",
    "# import deepgrow\n",
    "from monai.metrics.meandice import compute_meandice\n",
    "PATH_DATASETS = os.environ.get(\"PATH_DATASETS\", \".\")\n",
    "AVAIL_GPUS = min(1, torch.cuda.device_count())"
   ]
  },
  {
   "cell_type": "code",
   "execution_count": 2,
   "metadata": {
    "tags": []
   },
   "outputs": [],
   "source": [
    "# ! pip install \"monai==0.5.3\"\n",
    "# ! pip install hyperopt"
   ]
  },
  {
   "cell_type": "code",
   "execution_count": 3,
   "metadata": {
    "collapsed": true,
    "jupyter": {
     "outputs_hidden": true
    },
    "tags": []
   },
   "outputs": [
    {
     "data": {
      "text/html": [
       "\n",
       "      <iframe id=\"tensorboard-frame-436ada3061fb6a2b\" width=\"100%\" height=\"800\" frameborder=\"0\">\n",
       "      </iframe>\n",
       "      <script>\n",
       "        (function() {\n",
       "          const frame = document.getElementById(\"tensorboard-frame-436ada3061fb6a2b\");\n",
       "          const url = new URL(\"/proxy/7991/\", window.location);\n",
       "          const port = 0;\n",
       "          if (port) {\n",
       "            url.port = port;\n",
       "          }\n",
       "          frame.src = url;\n",
       "        })();\n",
       "      </script>\n",
       "    "
      ],
      "text/plain": [
       "<IPython.core.display.HTML object>"
      ]
     },
     "metadata": {},
     "output_type": "display_data"
    }
   ],
   "source": [
    "# # Start tensorboard.\n",
    "%load_ext tensorboard\n",
    "%tensorboard --logdir logs/ --port 7991"
   ]
  },
  {
   "cell_type": "code",
   "execution_count": 4,
   "metadata": {},
   "outputs": [],
   "source": [
    "class MNISTDataModule(LightningDataModule):\n",
    "    def __init__(\n",
    "        self,\n",
    "        batch_size =  256,\n",
    "        data_dir=PATH_DATASETS\n",
    "    ):\n",
    "        super().__init__()\n",
    "        self.data_dir = data_dir\n",
    "        self.batch_size = batch_size\n",
    "        \n",
    "        self.transform = transforms.Compose(\n",
    "            [\n",
    "                transforms.ToTensor(),\n",
    "                transforms.Resize((32,32)),\n",
    "            ]\n",
    "        )\n",
    "\n",
    "    def prepare_data(self):\n",
    "        # download\n",
    "        MNIST(self.data_dir, train=True, download=True)\n",
    "        MNIST(self.data_dir, train=False, download=True)\n",
    "\n",
    "    def setup(self, stage=None):\n",
    "\n",
    "        # Assign train/val datasets for use in dataloaders\n",
    "        if stage == \"fit\" or stage is None:\n",
    "            mnist_full = MNIST(self.data_dir, train=True, transform=self.transform)\n",
    "            self.mnist_train, self.mnist_val = random_split(mnist_full, [55000, 5000])\n",
    "\n",
    "        # Assign test dataset for use in dataloader(s)\n",
    "        if stage == \"test\" or stage is None:\n",
    "            self.mnist_test = MNIST(self.data_dir, train=False, transform=self.transform)\n",
    "\n",
    "    def train_dataloader(self):\n",
    "        return DataLoader(self.mnist_train, batch_size=self.batch_size)\n",
    "\n",
    "    def val_dataloader(self):\n",
    "        return DataLoader(self.mnist_val, batch_size=self.batch_size)\n",
    "\n",
    "    def test_dataloader(self):\n",
    "        return DataLoader(self.mnist_test, batch_size=self.batch_size)"
   ]
  },
  {
   "cell_type": "code",
   "execution_count": null,
   "metadata": {},
   "outputs": [],
   "source": []
  },
  {
   "cell_type": "code",
   "execution_count": 7,
   "metadata": {},
   "outputs": [],
   "source": [
    "class LightningVAE(pl.LightningModule):\n",
    "    def __init__(self, config):\n",
    "        super(LightningVAE, self).__init__()\n",
    "\n",
    "        self.lr = config[\"lr\"]\n",
    "        self.batch_size = config[\"batch_size\"]\n",
    "        self.latent_dim = config[\"latent_dim\"]\n",
    "\n",
    "        self.model = monai.networks.nets.VarAutoEncoder(\n",
    "            dimensions=2,  \n",
    "            kernel_size=config[\"kernel_size\"],\n",
    "            in_shape=[1, 32,32],\n",
    "            out_channels=1,\n",
    "            channels=config[\"channel\"],\n",
    "            strides=config[\"stride\"],\n",
    "            latent_size=config[\"latent_dim\"],\n",
    "            norm=config[\"norm\"],\n",
    "            dropout=config[\"dropout_rate\"],\n",
    "            num_res_units=config[\"num_resnets\"],\n",
    "        )\n",
    " \n",
    "\n",
    "        self.vae_loss = KLLoss(alpha=config[\"alpha\"], beta=config[\"beta\"])\n",
    "        self.dice = Dice()\n",
    "\n",
    "    def forward(self, x):\n",
    "        \n",
    "        return self.model(x)\n",
    "\n",
    "\n",
    "    def training_step(self, train_batch, batch_idx):\n",
    "        x, _ = train_batch\n",
    "        y = x\n",
    "        output = self.forward(x)\n",
    "        recon_batch = output[0]\n",
    "        loss, avg_kl = self.vae_loss(output, y)\n",
    "        # dice, avgkl, totalkl\n",
    "        recon_batch = (recon_batch > 0.5).float()\n",
    "        dice= self.dice(recon_batch, y)\n",
    "\n",
    "        return {\"loss\": loss, \"dice\": dice, \"avg_kl\": avg_kl}\n",
    "\n",
    "    def training_epoch_end(self, outputs):\n",
    "\n",
    "        mean_loss = torch.stack([x[\"loss\"] for x in outputs]).mean()\n",
    "        mean_dice = torch.stack([x[\"dice\"] for x in outputs]).mean()\n",
    "        mean_avg_kl = torch.stack([x[\"avg_kl\"] for x in outputs]).mean()\n",
    "        mean_total_kl = mean_avg_kl * self.latent_dim\n",
    "\n",
    "        self.logger.experiment.add_scalar(\n",
    "            \"Training/loss\", mean_loss, self.current_epoch\n",
    "        )\n",
    "        self.logger.experiment.add_scalar(\n",
    "            \"Training/dice\", mean_dice, self.current_epoch\n",
    "        )\n",
    "        self.logger.experiment.add_scalar(\n",
    "            \"Training/avg_kl\", mean_avg_kl, self.current_epoch\n",
    "        )\n",
    "        self.logger.experiment.add_scalar(\n",
    "            \"Training/total_kl\", mean_total_kl, self.current_epoch\n",
    "        )\n",
    "\n",
    "    def validation_step(self, val_batch, batch_idx):\n",
    "\n",
    "        x, _ = val_batch\n",
    "        y = x\n",
    "        if(y.shape[0]>=5):\n",
    "            self.sample_random_batch = y[:5]\n",
    "        output = self.forward(x)\n",
    "        recon_batch = output[0]\n",
    "        loss, avg_kl = self.vae_loss(output, y)\n",
    "        # dice, avgkl, totalkl, surface_dice\n",
    "        recon_batch = (recon_batch > 0.5).float()\n",
    "        dice= self.dice(recon_batch, y)\n",
    "        # dice = compute_meandice(recon_batch, x, include_background=False)\n",
    "\n",
    "        return {\n",
    "            \"loss\": loss,\n",
    "            \"dice\": dice,\n",
    "            \"avg_kl\": avg_kl,\n",
    "        }\n",
    "\n",
    "    def validation_epoch_end(self, outputs):\n",
    "\n",
    "        mean_loss = torch.stack([x[\"loss\"] for x in outputs]).mean()\n",
    "        mean_dice = torch.stack([x[\"dice\"] for x in outputs]).mean()\n",
    "        mean_avg_kl = torch.stack([x[\"avg_kl\"] for x in outputs]).mean()\n",
    "        mean_total_kl = mean_avg_kl * self.latent_dim\n",
    "\n",
    "        self.logger.experiment.add_scalar(\n",
    "            \"Validation/loss\", mean_loss, self.current_epoch\n",
    "        )\n",
    "        self.logger.experiment.add_scalar(\n",
    "            \"Validation/dice\", mean_dice, self.current_epoch\n",
    "        )\n",
    "        self.logger.experiment.add_scalar(\n",
    "            \"Validation/avg_kl\", mean_avg_kl, self.current_epoch\n",
    "        )\n",
    "        self.logger.experiment.add_scalar(\n",
    "            \"Validation/total_kl\", mean_total_kl, self.current_epoch\n",
    "        )\n",
    "        self.log(\"ptl/dice\", mean_dice)\n",
    "\n",
    "    def configure_optimizers(self):\n",
    "        optimizer = torch.optim.Adam(self.parameters(), lr=self.lr)\n",
    "        return optimizer\n",
    "    \n",
    "    def on_epoch_end(self):\n",
    "\n",
    "        # log sampled images\n",
    "        if(self.current_epoch%5 == 0):\n",
    "            sample_out = self.forward(self.sample_random_batch)\n",
    "            sample_out = sample_out[0].detach().cpu().numpy()\n",
    "            sample_in = self.sample_random_batch.cpu().numpy()\n",
    "            data = []\n",
    "            slice_index = sample_out.shape[2]//2\n",
    "            for i in range(1):\n",
    "                for j in range(sample_out.shape[0]):\n",
    "                    data.append(sample_out[j,i])\n",
    "                for j in range(sample_out.shape[0]):\n",
    "                    data.append(sample_in[j,i])\n",
    "            data_tensor = torch.from_numpy(np.array(data)).unsqueeze(1)\n",
    "            grid = torchvision.utils.make_grid(data_tensor,\n",
    "                                              normalize = True, \n",
    "                                             scale_each = True,\n",
    "                                             nrow = sample_out.shape[0])\n",
    "            self.logger.experiment.add_image(\"generated_images\", grid, self.current_epoch)\n"
   ]
  },
  {
   "cell_type": "code",
   "execution_count": 8,
   "metadata": {},
   "outputs": [],
   "source": [
    "from pytorch_lightning.loggers import TensorBoardLogger\n",
    "from ray import tune\n",
    "from ray.tune import CLIReporter\n",
    "from ray.tune.schedulers import ASHAScheduler, PopulationBasedTraining\n",
    "from ray.tune.integration.pytorch_lightning import (\n",
    "    TuneReportCallback,\n",
    "    TuneReportCheckpointCallback,\n",
    ")"
   ]
  },
  {
   "cell_type": "code",
   "execution_count": 14,
   "metadata": {},
   "outputs": [],
   "source": [
    "def train_vae_tune(config, num_epochs=10, num_gpus=1):\n",
    "    # data_dir = os.path.expanduser(data_dir)\n",
    "    model = LightningVAE(config)\n",
    "    data_module = MNISTDataModule(\n",
    "        batch_size=config[\"batch_size\"]\n",
    "    )\n",
    "    trainer = pl.Trainer(\n",
    "        max_epochs=num_epochs,\n",
    "        gpus=num_gpus,\n",
    "        logger=TensorBoardLogger(save_dir=tune.get_trial_dir(), name=\"\", version=\".\"),\n",
    "        progress_bar_refresh_rate=0,\n",
    "        callbacks=[\n",
    "            TuneReportCallback(\n",
    "                {\"dice\": \"ptl/dice\"},\n",
    "                on=\"validation_end\",\n",
    "            )\n",
    "        ],\n",
    "    )\n",
    "    trainer.fit(model, data_module)"
   ]
  },
  {
   "cell_type": "code",
   "execution_count": null,
   "metadata": {
    "tags": []
   },
   "outputs": [],
   "source": []
  },
  {
   "cell_type": "code",
   "execution_count": 10,
   "metadata": {},
   "outputs": [],
   "source": [
    "# single run\n",
    "def train_vae_single(config, num_epochs=1, num_gpus=1):\n",
    "    model = LightningVAE(config)\n",
    "    data_module = MNISTDataModule(\n",
    "        batch_size=config[\"batch_size\"]\n",
    "    )\n",
    "\n",
    "    trainer = pl.Trainer(\n",
    "        max_epochs=num_epochs,\n",
    "        gpus=num_gpus,\n",
    "        logger=TensorBoardLogger(save_dir=\"./logs\"),\n",
    "    )\n",
    "\n",
    "    trainer.fit(model, data_module)"
   ]
  },
  {
   "cell_type": "code",
   "execution_count": 11,
   "metadata": {
    "tags": []
   },
   "outputs": [
    {
     "name": "stderr",
     "output_type": "stream",
     "text": [
      "GPU available: True, used: True\n",
      "TPU available: False, using: 0 TPU cores\n",
      "IPU available: False, using: 0 IPUs\n",
      "/opt/conda/envs/ray-lightning/lib/python3.7/site-packages/torchvision/datasets/mnist.py:498: UserWarning: The given NumPy array is not writeable, and PyTorch does not support non-writeable tensors. This means you can write to the underlying (supposedly non-writeable) NumPy array using the tensor. You may want to copy the array to protect its data or make it writeable before converting it to a tensor. This type of warning will be suppressed for the rest of this program. (Triggered internally at  /pytorch/torch/csrc/utils/tensor_numpy.cpp:180.)\n",
      "  return torch.from_numpy(parsed.astype(m[2], copy=False)).view(*s)\n",
      "LOCAL_RANK: 0 - CUDA_VISIBLE_DEVICES: [0]\n",
      "\n",
      "  | Name     | Type           | Params\n",
      "--------------------------------------------\n",
      "0 | model    | VarAutoEncoder | 899 K \n",
      "1 | vae_loss | KLLoss         | 0     \n",
      "2 | dice     | Dice           | 0     \n",
      "--------------------------------------------\n",
      "899 K     Trainable params\n",
      "0         Non-trainable params\n",
      "899 K     Total params\n",
      "3.598     Total estimated model params size (MB)\n"
     ]
    },
    {
     "name": "stdout",
     "output_type": "stream",
     "text": [
      "                                                                      "
     ]
    },
    {
     "name": "stderr",
     "output_type": "stream",
     "text": [
      "/opt/conda/envs/ray-lightning/lib/python3.7/site-packages/pytorch_lightning/trainer/data_loading.py:133: UserWarning: The dataloader, val_dataloader 0, does not have many workers which may be a bottleneck. Consider increasing the value of the `num_workers` argument` (try 8 which is the number of cpus on this machine) in the `DataLoader` init to improve performance.\n",
      "  f\"The dataloader, {name}, does not have many workers which may be a bottleneck.\"\n",
      "/opt/conda/envs/ray-lightning/lib/python3.7/site-packages/pytorch_lightning/trainer/data_loading.py:133: UserWarning: The dataloader, train_dataloader, does not have many workers which may be a bottleneck. Consider increasing the value of the `num_workers` argument` (try 8 which is the number of cpus on this machine) in the `DataLoader` init to improve performance.\n",
      "  f\"The dataloader, {name}, does not have many workers which may be a bottleneck.\"\n"
     ]
    },
    {
     "name": "stdout",
     "output_type": "stream",
     "text": [
      "Epoch 0:   1%|          | 2/235 [00:00<00:23,  9.85it/s, loss=1.75, v_num=28]"
     ]
    },
    {
     "name": "stderr",
     "output_type": "stream",
     "text": [
      "/opt/conda/envs/ray-lightning/lib/python3.7/site-packages/pytorch_lightning/loops/optimization/closure.py:36: LightningDeprecationWarning: One of the returned values {'dice', 'avg_kl'} has a `grad_fn`. We will detach it automatically but this behaviour will change in v1.6. Please detach it manually: `return {'loss': ..., 'something': something.detach()}`\n",
      "  f\"One of the returned values {set(extra.keys())} has a `grad_fn`. We will detach it automatically\"\n"
     ]
    },
    {
     "name": "stdout",
     "output_type": "stream",
     "text": [
      "Epoch 0:  91%|█████████▏| 215/235 [00:13<00:01, 16.31it/s, loss=1.22, v_num=28]\n",
      "Validating: 0it [00:00, ?it/s]\u001b[A\n",
      "Epoch 0:  92%|█████████▏| 217/235 [00:13<00:01, 16.37it/s, loss=1.22, v_num=28]\n",
      "Validating:  10%|█         | 2/20 [00:00<00:00, 18.58it/s]\u001b[A\n",
      "Epoch 0:  94%|█████████▍| 221/235 [00:13<00:00, 16.49it/s, loss=1.22, v_num=28]\n",
      "Epoch 0:  96%|█████████▌| 225/235 [00:13<00:00, 16.62it/s, loss=1.22, v_num=28]\n",
      "Epoch 0:  97%|█████████▋| 229/235 [00:13<00:00, 16.74it/s, loss=1.22, v_num=28]\n",
      "Validating:  70%|███████   | 14/20 [00:00<00:00, 27.50it/s]\u001b[A\n",
      "Epoch 0: 100%|██████████| 235/235 [00:13<00:00, 16.90it/s, loss=1.22, v_num=28]\n",
      "Epoch 1:  30%|███       | 71/235 [00:04<00:10, 16.24it/s, loss=1.13, v_num=28] "
     ]
    },
    {
     "name": "stderr",
     "output_type": "stream",
     "text": [
      "/opt/conda/envs/ray-lightning/lib/python3.7/site-packages/pytorch_lightning/trainer/trainer.py:688: UserWarning: Detected KeyboardInterrupt, attempting graceful shutdown...\n",
      "  rank_zero_warn(\"Detected KeyboardInterrupt, attempting graceful shutdown...\")\n"
     ]
    }
   ],
   "source": [
    "param = {\n",
    "        \"lr\": 0.00001,\n",
    "        \"latent_dim\": 256,\n",
    "        \"kernel_size\": 3,\n",
    "        \"dropout_rate\": 0.1,\n",
    "        \"alpha\": 1,\n",
    "        \"beta\": 0.01,\n",
    "        \"norm\": Norm.INSTANCE,\n",
    "         \"batch_size\": 256,\n",
    "        \n",
    "            \"val\": 3,\n",
    "            \"channel\": (32, 64, 64),\n",
    "            \"stride\": (1, 2, 4),\n",
    "            # \"resnet_units_batch\" : hp.choice(\"res6\", res_d6),\n",
    "\n",
    "        \"num_resnets\":  0,\n",
    "           \n",
    "        \n",
    "    }\n",
    "\n",
    "train_vae_single(param, num_epochs=50 , num_gpus =1)"
   ]
  },
  {
   "cell_type": "code",
   "execution_count": null,
   "metadata": {},
   "outputs": [],
   "source": [
    "def train_vae_tune(config, num_epochs=10, num_gpus=1):\n",
    "    # data_dir = os.path.expanduser(data_dir)\n",
    "    model = LightningVAE(config)\n",
    "    data_module = MNISTDataModule(\n",
    "        batch_size=config[\"batch_size\"]\n",
    "    )\n",
    "    trainer = pl.Trainer(\n",
    "        max_epochs=num_epochs,\n",
    "        gpus=num_gpus,\n",
    "        logger=TensorBoardLogger(save_dir=tune.get_trial_dir(), name=\"\", version=\".\"),\n",
    "        progress_bar_refresh_rate=0,\n",
    "        callbacks=[\n",
    "            TuneReportCallback(\n",
    "                {\"dice\": \"ptl/dice\"},\n",
    "                on=\"validation_end\",\n",
    "            )\n",
    "        ],\n",
    "    )\n",
    "    trainer.fit(model, data_module)"
   ]
  },
  {
   "cell_type": "code",
   "execution_count": 15,
   "metadata": {},
   "outputs": [],
   "source": [
    "def tune_vae_asha(exp_name, run_name, num_samples=10, num_epochs=10, gpus_per_trial=0):\n",
    "\n",
    "    # config = create_search_space()\n",
    "\n",
    "    checkpoint_dir = os.path.join(\"runs\", exp_name)\n",
    "\n",
    "    if not os.path.exists(checkpoint_dir):\n",
    "        os.makedirs(checkpoint_dir)\n",
    "\n",
    "    # search_alg = HyperOptSearch(\n",
    "    #     config,\n",
    "    #     metric=\"dice\",\n",
    "    #     mode=\"max\"\n",
    "    #     # , points_to_evaluate=intial_best_config\n",
    "    # )\n",
    "    scheduler = ASHAScheduler(max_t=num_epochs, grace_period=1, reduction_factor=2)\n",
    "\n",
    "\n",
    "    train_fn_with_parameters = tune.with_parameters(\n",
    "        train_vae_tune,\n",
    "        num_epochs=num_epochs,\n",
    "        num_gpus=gpus_per_trial,\n",
    "        # data_dir=data_dir,\n",
    "    )\n",
    "    resources_per_trial = {\"cpu\": 1, \"gpu\": gpus_per_trial}\n",
    "    # resources_per_trial = (\n",
    "    #     tune.PlacementGroupFactory(\n",
    "    #         [\n",
    "    #             {\"CPU\": args.num_workers, \"GPU\": args.gpus},\n",
    "    #         ],\n",
    "    #         strategy=\"SPREAD\",\n",
    "    #     ),\n",
    "    # )\n",
    "    config={\n",
    "        \"lr\": tune.grid_search([0.0001, 0.001]),\n",
    "        \"latent_dim\":tune.grid_search([256, 512]),\n",
    "        \"kernel_size\" :tune.grid_search([5]),\n",
    "        \"dropout_rate\":tune.grid_search([0.4]),\n",
    "        \"alpha\": tune.grid_search([1,5]),\n",
    "        \"beta\": tune.grid_search([0.01,0.05, 0.1, 0.5]),# \n",
    "        \"norm\" : tune.grid_search([Norm.INSTANCE]),\n",
    "        # \"depth\" : tune.grid_search([3]),\n",
    "        \"channel\" : tune.grid_search([(32, 64, 128)]),\n",
    "        \"stride\" : tune.grid_search([(2,2,4)]),\n",
    "        \"num_resnets\" : tune.grid_search([1]),\n",
    "        \"batch_size\" : tune.grid_search([30]),\n",
    "        \n",
    "        \n",
    "    }\n",
    "    analysis = tune.run(\n",
    "        train_fn_with_parameters,\n",
    "        resources_per_trial=resources_per_trial,\n",
    "        # search_alg=search_alg,\n",
    "        # stop=stopper,\n",
    "        metric=\"dice\",\n",
    "        mode=\"max\",\n",
    "        config=config,\n",
    "        num_samples=num_samples,\n",
    "        scheduler=scheduler,\n",
    "        # progress_reporter=reporter,\n",
    "        name=run_name,\n",
    "        local_dir=checkpoint_dir,\n",
    "        log_to_file=True,\n",
    "        checkpoint_freq=0,\n",
    "        keep_checkpoints_num=0,\n",
    "    )\n",
    "\n",
    "    print(\"Best hyperparameters found were: \", analysis.best_config)"
   ]
  },
  {
   "cell_type": "code",
   "execution_count": 16,
   "metadata": {
    "collapsed": true,
    "jupyter": {
     "outputs_hidden": true
    },
    "tags": []
   },
   "outputs": [
    {
     "data": {
      "text/html": [
       "== Status ==<br>Current time: 2022-04-13 11:57:18 (running for 00:00:01.69)<br>Memory usage on this node: 10.3/29.4 GiB<br>Using AsyncHyperBand: num_stopped=0\n",
       "Bracket: Iter 2.000: None | Iter 1.000: None<br>Resources requested: 1.0/8 CPUs, 1.0/1 GPUs, 0.0/12.16 GiB heap, 0.0/6.08 GiB objects (0.0/1.0 accelerator_type:T4)<br>Result logdir: /home/jupyter/pl-tutorial/runs/ray/test<br>Number of trials: 16/32 (15 PENDING, 1 RUNNING)<br><table>\n",
       "<thead>\n",
       "<tr><th>Trial name                </th><th>status  </th><th>loc              </th><th style=\"text-align: right;\">  alpha</th><th style=\"text-align: right;\">  batch_size</th><th style=\"text-align: right;\">  beta</th><th>channel      </th><th style=\"text-align: right;\">  dropout_rate</th><th style=\"text-align: right;\">  kernel_size</th><th style=\"text-align: right;\">  latent_dim</th><th style=\"text-align: right;\">    lr</th><th>norm    </th><th style=\"text-align: right;\">  num_resnets</th><th>stride   </th></tr>\n",
       "</thead>\n",
       "<tbody>\n",
       "<tr><td>train_vae_tune_dd20d_00000</td><td>RUNNING </td><td>10.128.0.35:10428</td><td style=\"text-align: right;\">      1</td><td style=\"text-align: right;\">          30</td><td style=\"text-align: right;\">  0.01</td><td>(32, 64, 128)</td><td style=\"text-align: right;\">           0.4</td><td style=\"text-align: right;\">            5</td><td style=\"text-align: right;\">         256</td><td style=\"text-align: right;\">0.0001</td><td>INSTANCE</td><td style=\"text-align: right;\">            1</td><td>(2, 2, 4)</td></tr>\n",
       "<tr><td>train_vae_tune_dd20d_00001</td><td>PENDING </td><td>                 </td><td style=\"text-align: right;\">      5</td><td style=\"text-align: right;\">          30</td><td style=\"text-align: right;\">  0.01</td><td>(32, 64, 128)</td><td style=\"text-align: right;\">           0.4</td><td style=\"text-align: right;\">            5</td><td style=\"text-align: right;\">         256</td><td style=\"text-align: right;\">0.0001</td><td>INSTANCE</td><td style=\"text-align: right;\">            1</td><td>(2, 2, 4)</td></tr>\n",
       "<tr><td>train_vae_tune_dd20d_00002</td><td>PENDING </td><td>                 </td><td style=\"text-align: right;\">      1</td><td style=\"text-align: right;\">          30</td><td style=\"text-align: right;\">  0.05</td><td>(32, 64, 128)</td><td style=\"text-align: right;\">           0.4</td><td style=\"text-align: right;\">            5</td><td style=\"text-align: right;\">         256</td><td style=\"text-align: right;\">0.0001</td><td>INSTANCE</td><td style=\"text-align: right;\">            1</td><td>(2, 2, 4)</td></tr>\n",
       "<tr><td>train_vae_tune_dd20d_00003</td><td>PENDING </td><td>                 </td><td style=\"text-align: right;\">      5</td><td style=\"text-align: right;\">          30</td><td style=\"text-align: right;\">  0.05</td><td>(32, 64, 128)</td><td style=\"text-align: right;\">           0.4</td><td style=\"text-align: right;\">            5</td><td style=\"text-align: right;\">         256</td><td style=\"text-align: right;\">0.0001</td><td>INSTANCE</td><td style=\"text-align: right;\">            1</td><td>(2, 2, 4)</td></tr>\n",
       "<tr><td>train_vae_tune_dd20d_00004</td><td>PENDING </td><td>                 </td><td style=\"text-align: right;\">      1</td><td style=\"text-align: right;\">          30</td><td style=\"text-align: right;\">  0.1 </td><td>(32, 64, 128)</td><td style=\"text-align: right;\">           0.4</td><td style=\"text-align: right;\">            5</td><td style=\"text-align: right;\">         256</td><td style=\"text-align: right;\">0.0001</td><td>INSTANCE</td><td style=\"text-align: right;\">            1</td><td>(2, 2, 4)</td></tr>\n",
       "<tr><td>train_vae_tune_dd20d_00005</td><td>PENDING </td><td>                 </td><td style=\"text-align: right;\">      5</td><td style=\"text-align: right;\">          30</td><td style=\"text-align: right;\">  0.1 </td><td>(32, 64, 128)</td><td style=\"text-align: right;\">           0.4</td><td style=\"text-align: right;\">            5</td><td style=\"text-align: right;\">         256</td><td style=\"text-align: right;\">0.0001</td><td>INSTANCE</td><td style=\"text-align: right;\">            1</td><td>(2, 2, 4)</td></tr>\n",
       "<tr><td>train_vae_tune_dd20d_00006</td><td>PENDING </td><td>                 </td><td style=\"text-align: right;\">      1</td><td style=\"text-align: right;\">          30</td><td style=\"text-align: right;\">  0.5 </td><td>(32, 64, 128)</td><td style=\"text-align: right;\">           0.4</td><td style=\"text-align: right;\">            5</td><td style=\"text-align: right;\">         256</td><td style=\"text-align: right;\">0.0001</td><td>INSTANCE</td><td style=\"text-align: right;\">            1</td><td>(2, 2, 4)</td></tr>\n",
       "<tr><td>train_vae_tune_dd20d_00007</td><td>PENDING </td><td>                 </td><td style=\"text-align: right;\">      5</td><td style=\"text-align: right;\">          30</td><td style=\"text-align: right;\">  0.5 </td><td>(32, 64, 128)</td><td style=\"text-align: right;\">           0.4</td><td style=\"text-align: right;\">            5</td><td style=\"text-align: right;\">         256</td><td style=\"text-align: right;\">0.0001</td><td>INSTANCE</td><td style=\"text-align: right;\">            1</td><td>(2, 2, 4)</td></tr>\n",
       "<tr><td>train_vae_tune_dd20d_00008</td><td>PENDING </td><td>                 </td><td style=\"text-align: right;\">      1</td><td style=\"text-align: right;\">          30</td><td style=\"text-align: right;\">  0.01</td><td>(32, 64, 128)</td><td style=\"text-align: right;\">           0.4</td><td style=\"text-align: right;\">            5</td><td style=\"text-align: right;\">         512</td><td style=\"text-align: right;\">0.0001</td><td>INSTANCE</td><td style=\"text-align: right;\">            1</td><td>(2, 2, 4)</td></tr>\n",
       "<tr><td>train_vae_tune_dd20d_00009</td><td>PENDING </td><td>                 </td><td style=\"text-align: right;\">      5</td><td style=\"text-align: right;\">          30</td><td style=\"text-align: right;\">  0.01</td><td>(32, 64, 128)</td><td style=\"text-align: right;\">           0.4</td><td style=\"text-align: right;\">            5</td><td style=\"text-align: right;\">         512</td><td style=\"text-align: right;\">0.0001</td><td>INSTANCE</td><td style=\"text-align: right;\">            1</td><td>(2, 2, 4)</td></tr>\n",
       "<tr><td>train_vae_tune_dd20d_00010</td><td>PENDING </td><td>                 </td><td style=\"text-align: right;\">      1</td><td style=\"text-align: right;\">          30</td><td style=\"text-align: right;\">  0.05</td><td>(32, 64, 128)</td><td style=\"text-align: right;\">           0.4</td><td style=\"text-align: right;\">            5</td><td style=\"text-align: right;\">         512</td><td style=\"text-align: right;\">0.0001</td><td>INSTANCE</td><td style=\"text-align: right;\">            1</td><td>(2, 2, 4)</td></tr>\n",
       "<tr><td>train_vae_tune_dd20d_00011</td><td>PENDING </td><td>                 </td><td style=\"text-align: right;\">      5</td><td style=\"text-align: right;\">          30</td><td style=\"text-align: right;\">  0.05</td><td>(32, 64, 128)</td><td style=\"text-align: right;\">           0.4</td><td style=\"text-align: right;\">            5</td><td style=\"text-align: right;\">         512</td><td style=\"text-align: right;\">0.0001</td><td>INSTANCE</td><td style=\"text-align: right;\">            1</td><td>(2, 2, 4)</td></tr>\n",
       "<tr><td>train_vae_tune_dd20d_00012</td><td>PENDING </td><td>                 </td><td style=\"text-align: right;\">      1</td><td style=\"text-align: right;\">          30</td><td style=\"text-align: right;\">  0.1 </td><td>(32, 64, 128)</td><td style=\"text-align: right;\">           0.4</td><td style=\"text-align: right;\">            5</td><td style=\"text-align: right;\">         512</td><td style=\"text-align: right;\">0.0001</td><td>INSTANCE</td><td style=\"text-align: right;\">            1</td><td>(2, 2, 4)</td></tr>\n",
       "<tr><td>train_vae_tune_dd20d_00013</td><td>PENDING </td><td>                 </td><td style=\"text-align: right;\">      5</td><td style=\"text-align: right;\">          30</td><td style=\"text-align: right;\">  0.1 </td><td>(32, 64, 128)</td><td style=\"text-align: right;\">           0.4</td><td style=\"text-align: right;\">            5</td><td style=\"text-align: right;\">         512</td><td style=\"text-align: right;\">0.0001</td><td>INSTANCE</td><td style=\"text-align: right;\">            1</td><td>(2, 2, 4)</td></tr>\n",
       "<tr><td>train_vae_tune_dd20d_00014</td><td>PENDING </td><td>                 </td><td style=\"text-align: right;\">      1</td><td style=\"text-align: right;\">          30</td><td style=\"text-align: right;\">  0.5 </td><td>(32, 64, 128)</td><td style=\"text-align: right;\">           0.4</td><td style=\"text-align: right;\">            5</td><td style=\"text-align: right;\">         512</td><td style=\"text-align: right;\">0.0001</td><td>INSTANCE</td><td style=\"text-align: right;\">            1</td><td>(2, 2, 4)</td></tr>\n",
       "<tr><td>train_vae_tune_dd20d_00015</td><td>PENDING </td><td>                 </td><td style=\"text-align: right;\">      5</td><td style=\"text-align: right;\">          30</td><td style=\"text-align: right;\">  0.5 </td><td>(32, 64, 128)</td><td style=\"text-align: right;\">           0.4</td><td style=\"text-align: right;\">            5</td><td style=\"text-align: right;\">         512</td><td style=\"text-align: right;\">0.0001</td><td>INSTANCE</td><td style=\"text-align: right;\">            1</td><td>(2, 2, 4)</td></tr>\n",
       "</tbody>\n",
       "</table><br><br>"
      ],
      "text/plain": [
       "<IPython.core.display.HTML object>"
      ]
     },
     "metadata": {},
     "output_type": "display_data"
    },
    {
     "name": "stderr",
     "output_type": "stream",
     "text": [
      "\u001b[2m\u001b[36m(train_vae_tune pid=10428)\u001b[0m /opt/conda/envs/ray-lightning/lib/python3.7/site-packages/pytorch_lightning/trainer/connectors/callback_connector.py:91: LightningDeprecationWarning: Setting `Trainer(progress_bar_refresh_rate=0)` is deprecated in v1.5 and will be removed in v1.7. Please pass `pytorch_lightning.callbacks.progress.TQDMProgressBar` with `refresh_rate` directly to the Trainer's `callbacks` argument instead. Or, to disable the progress bar pass `enable_progress_bar = False` to the Trainer.\n",
      "\u001b[2m\u001b[36m(train_vae_tune pid=10428)\u001b[0m   f\"Setting `Trainer(progress_bar_refresh_rate={progress_bar_refresh_rate})` is deprecated in v1.5 and\"\n",
      "\u001b[2m\u001b[36m(train_vae_tune pid=10428)\u001b[0m GPU available: True, used: True\n",
      "\u001b[2m\u001b[36m(train_vae_tune pid=10428)\u001b[0m TPU available: False, using: 0 TPU cores\n",
      "\u001b[2m\u001b[36m(train_vae_tune pid=10428)\u001b[0m IPU available: False, using: 0 IPUs\n",
      "\u001b[2m\u001b[36m(train_vae_tune pid=10428)\u001b[0m /opt/conda/envs/ray-lightning/lib/python3.7/site-packages/pytorch_lightning/trainer/configuration_validator.py:276: LightningDeprecationWarning: The `on_keyboard_interrupt` callback hook was deprecated in v1.5 and will be removed in v1.7. Please use the `on_exception` callback hook instead.\n",
      "\u001b[2m\u001b[36m(train_vae_tune pid=10428)\u001b[0m   \"The `on_keyboard_interrupt` callback hook was deprecated in v1.5 and will be removed in v1.7.\"\n",
      "  0%|          | 0/9912422 [00:00<?, ?it/s]\n"
     ]
    },
    {
     "name": "stdout",
     "output_type": "stream",
     "text": [
      "\u001b[2m\u001b[36m(train_vae_tune pid=10428)\u001b[0m Downloading http://yann.lecun.com/exdb/mnist/train-images-idx3-ubyte.gz\n",
      "\u001b[2m\u001b[36m(train_vae_tune pid=10428)\u001b[0m Downloading http://yann.lecun.com/exdb/mnist/train-images-idx3-ubyte.gz to ./MNIST/raw/train-images-idx3-ubyte.gz\n"
     ]
    },
    {
     "name": "stderr",
     "output_type": "stream",
     "text": [
      "9913344it [00:00, 93009203.47it/s]                             \n"
     ]
    },
    {
     "name": "stdout",
     "output_type": "stream",
     "text": [
      "\u001b[2m\u001b[36m(train_vae_tune pid=10428)\u001b[0m Extracting ./MNIST/raw/train-images-idx3-ubyte.gz to ./MNIST/raw\n",
      "\u001b[2m\u001b[36m(train_vae_tune pid=10428)\u001b[0m \n",
      "\u001b[2m\u001b[36m(train_vae_tune pid=10428)\u001b[0m Downloading http://yann.lecun.com/exdb/mnist/train-labels-idx1-ubyte.gz\n",
      "\u001b[2m\u001b[36m(train_vae_tune pid=10428)\u001b[0m Downloading http://yann.lecun.com/exdb/mnist/train-labels-idx1-ubyte.gz to ./MNIST/raw/train-labels-idx1-ubyte.gz\n",
      "\u001b[2m\u001b[36m(train_vae_tune pid=10428)\u001b[0m Extracting ./MNIST/raw/train-labels-idx1-ubyte.gz to ./MNIST/raw\n",
      "\u001b[2m\u001b[36m(train_vae_tune pid=10428)\u001b[0m \n",
      "\u001b[2m\u001b[36m(train_vae_tune pid=10428)\u001b[0m Downloading http://yann.lecun.com/exdb/mnist/t10k-images-idx3-ubyte.gz\n",
      "\u001b[2m\u001b[36m(train_vae_tune pid=10428)\u001b[0m Downloading http://yann.lecun.com/exdb/mnist/t10k-images-idx3-ubyte.gz to ./MNIST/raw/t10k-images-idx3-ubyte.gz\n"
     ]
    },
    {
     "name": "stderr",
     "output_type": "stream",
     "text": [
      "29696it [00:00, 110420258.50it/s]        \n",
      "1649664it [00:00, 23938942.74it/s]         \n"
     ]
    },
    {
     "name": "stdout",
     "output_type": "stream",
     "text": [
      "\u001b[2m\u001b[36m(train_vae_tune pid=10428)\u001b[0m Extracting ./MNIST/raw/t10k-images-idx3-ubyte.gz to ./MNIST/raw\n",
      "\u001b[2m\u001b[36m(train_vae_tune pid=10428)\u001b[0m \n",
      "\u001b[2m\u001b[36m(train_vae_tune pid=10428)\u001b[0m Downloading http://yann.lecun.com/exdb/mnist/t10k-labels-idx1-ubyte.gz\n",
      "\u001b[2m\u001b[36m(train_vae_tune pid=10428)\u001b[0m Downloading http://yann.lecun.com/exdb/mnist/t10k-labels-idx1-ubyte.gz to ./MNIST/raw/t10k-labels-idx1-ubyte.gz\n"
     ]
    },
    {
     "name": "stderr",
     "output_type": "stream",
     "text": [
      "5120it [00:00, 32537631.03it/s]         \n",
      "\u001b[2m\u001b[36m(train_vae_tune pid=10428)\u001b[0m /opt/conda/envs/ray-lightning/lib/python3.7/site-packages/torchvision/datasets/mnist.py:498: UserWarning: The given NumPy array is not writeable, and PyTorch does not support non-writeable tensors. This means you can write to the underlying (supposedly non-writeable) NumPy array using the tensor. You may want to copy the array to protect its data or make it writeable before converting it to a tensor. This type of warning will be suppressed for the rest of this program. (Triggered internally at  /pytorch/torch/csrc/utils/tensor_numpy.cpp:180.)\n",
      "\u001b[2m\u001b[36m(train_vae_tune pid=10428)\u001b[0m   return torch.from_numpy(parsed.astype(m[2], copy=False)).view(*s)\n",
      "\u001b[2m\u001b[36m(train_vae_tune pid=10428)\u001b[0m LOCAL_RANK: 0 - CUDA_VISIBLE_DEVICES: [0]\n"
     ]
    },
    {
     "name": "stdout",
     "output_type": "stream",
     "text": [
      "\u001b[2m\u001b[36m(train_vae_tune pid=10428)\u001b[0m Extracting ./MNIST/raw/t10k-labels-idx1-ubyte.gz to ./MNIST/raw\n",
      "\u001b[2m\u001b[36m(train_vae_tune pid=10428)\u001b[0m \n"
     ]
    },
    {
     "data": {
      "text/html": [
       "== Status ==<br>Current time: 2022-04-13 11:57:21 (running for 00:00:05.30)<br>Memory usage on this node: 12.4/29.4 GiB<br>Using AsyncHyperBand: num_stopped=0\n",
       "Bracket: Iter 2.000: None | Iter 1.000: None<br>Resources requested: 1.0/8 CPUs, 1.0/1 GPUs, 0.0/12.16 GiB heap, 0.0/6.08 GiB objects (0.0/1.0 accelerator_type:T4)<br>Result logdir: /home/jupyter/pl-tutorial/runs/ray/test<br>Number of trials: 17/32 (16 PENDING, 1 RUNNING)<br><table>\n",
       "<thead>\n",
       "<tr><th>Trial name                </th><th>status  </th><th>loc              </th><th style=\"text-align: right;\">  alpha</th><th style=\"text-align: right;\">  batch_size</th><th style=\"text-align: right;\">  beta</th><th>channel      </th><th style=\"text-align: right;\">  dropout_rate</th><th style=\"text-align: right;\">  kernel_size</th><th style=\"text-align: right;\">  latent_dim</th><th style=\"text-align: right;\">    lr</th><th>norm    </th><th style=\"text-align: right;\">  num_resnets</th><th>stride   </th></tr>\n",
       "</thead>\n",
       "<tbody>\n",
       "<tr><td>train_vae_tune_dd20d_00000</td><td>RUNNING </td><td>10.128.0.35:10428</td><td style=\"text-align: right;\">      1</td><td style=\"text-align: right;\">          30</td><td style=\"text-align: right;\">  0.01</td><td>(32, 64, 128)</td><td style=\"text-align: right;\">           0.4</td><td style=\"text-align: right;\">            5</td><td style=\"text-align: right;\">         256</td><td style=\"text-align: right;\">0.0001</td><td>INSTANCE</td><td style=\"text-align: right;\">            1</td><td>(2, 2, 4)</td></tr>\n",
       "<tr><td>train_vae_tune_dd20d_00001</td><td>PENDING </td><td>                 </td><td style=\"text-align: right;\">      5</td><td style=\"text-align: right;\">          30</td><td style=\"text-align: right;\">  0.01</td><td>(32, 64, 128)</td><td style=\"text-align: right;\">           0.4</td><td style=\"text-align: right;\">            5</td><td style=\"text-align: right;\">         256</td><td style=\"text-align: right;\">0.0001</td><td>INSTANCE</td><td style=\"text-align: right;\">            1</td><td>(2, 2, 4)</td></tr>\n",
       "<tr><td>train_vae_tune_dd20d_00002</td><td>PENDING </td><td>                 </td><td style=\"text-align: right;\">      1</td><td style=\"text-align: right;\">          30</td><td style=\"text-align: right;\">  0.05</td><td>(32, 64, 128)</td><td style=\"text-align: right;\">           0.4</td><td style=\"text-align: right;\">            5</td><td style=\"text-align: right;\">         256</td><td style=\"text-align: right;\">0.0001</td><td>INSTANCE</td><td style=\"text-align: right;\">            1</td><td>(2, 2, 4)</td></tr>\n",
       "<tr><td>train_vae_tune_dd20d_00003</td><td>PENDING </td><td>                 </td><td style=\"text-align: right;\">      5</td><td style=\"text-align: right;\">          30</td><td style=\"text-align: right;\">  0.05</td><td>(32, 64, 128)</td><td style=\"text-align: right;\">           0.4</td><td style=\"text-align: right;\">            5</td><td style=\"text-align: right;\">         256</td><td style=\"text-align: right;\">0.0001</td><td>INSTANCE</td><td style=\"text-align: right;\">            1</td><td>(2, 2, 4)</td></tr>\n",
       "<tr><td>train_vae_tune_dd20d_00004</td><td>PENDING </td><td>                 </td><td style=\"text-align: right;\">      1</td><td style=\"text-align: right;\">          30</td><td style=\"text-align: right;\">  0.1 </td><td>(32, 64, 128)</td><td style=\"text-align: right;\">           0.4</td><td style=\"text-align: right;\">            5</td><td style=\"text-align: right;\">         256</td><td style=\"text-align: right;\">0.0001</td><td>INSTANCE</td><td style=\"text-align: right;\">            1</td><td>(2, 2, 4)</td></tr>\n",
       "<tr><td>train_vae_tune_dd20d_00005</td><td>PENDING </td><td>                 </td><td style=\"text-align: right;\">      5</td><td style=\"text-align: right;\">          30</td><td style=\"text-align: right;\">  0.1 </td><td>(32, 64, 128)</td><td style=\"text-align: right;\">           0.4</td><td style=\"text-align: right;\">            5</td><td style=\"text-align: right;\">         256</td><td style=\"text-align: right;\">0.0001</td><td>INSTANCE</td><td style=\"text-align: right;\">            1</td><td>(2, 2, 4)</td></tr>\n",
       "<tr><td>train_vae_tune_dd20d_00006</td><td>PENDING </td><td>                 </td><td style=\"text-align: right;\">      1</td><td style=\"text-align: right;\">          30</td><td style=\"text-align: right;\">  0.5 </td><td>(32, 64, 128)</td><td style=\"text-align: right;\">           0.4</td><td style=\"text-align: right;\">            5</td><td style=\"text-align: right;\">         256</td><td style=\"text-align: right;\">0.0001</td><td>INSTANCE</td><td style=\"text-align: right;\">            1</td><td>(2, 2, 4)</td></tr>\n",
       "<tr><td>train_vae_tune_dd20d_00007</td><td>PENDING </td><td>                 </td><td style=\"text-align: right;\">      5</td><td style=\"text-align: right;\">          30</td><td style=\"text-align: right;\">  0.5 </td><td>(32, 64, 128)</td><td style=\"text-align: right;\">           0.4</td><td style=\"text-align: right;\">            5</td><td style=\"text-align: right;\">         256</td><td style=\"text-align: right;\">0.0001</td><td>INSTANCE</td><td style=\"text-align: right;\">            1</td><td>(2, 2, 4)</td></tr>\n",
       "<tr><td>train_vae_tune_dd20d_00008</td><td>PENDING </td><td>                 </td><td style=\"text-align: right;\">      1</td><td style=\"text-align: right;\">          30</td><td style=\"text-align: right;\">  0.01</td><td>(32, 64, 128)</td><td style=\"text-align: right;\">           0.4</td><td style=\"text-align: right;\">            5</td><td style=\"text-align: right;\">         512</td><td style=\"text-align: right;\">0.0001</td><td>INSTANCE</td><td style=\"text-align: right;\">            1</td><td>(2, 2, 4)</td></tr>\n",
       "<tr><td>train_vae_tune_dd20d_00009</td><td>PENDING </td><td>                 </td><td style=\"text-align: right;\">      5</td><td style=\"text-align: right;\">          30</td><td style=\"text-align: right;\">  0.01</td><td>(32, 64, 128)</td><td style=\"text-align: right;\">           0.4</td><td style=\"text-align: right;\">            5</td><td style=\"text-align: right;\">         512</td><td style=\"text-align: right;\">0.0001</td><td>INSTANCE</td><td style=\"text-align: right;\">            1</td><td>(2, 2, 4)</td></tr>\n",
       "<tr><td>train_vae_tune_dd20d_00010</td><td>PENDING </td><td>                 </td><td style=\"text-align: right;\">      1</td><td style=\"text-align: right;\">          30</td><td style=\"text-align: right;\">  0.05</td><td>(32, 64, 128)</td><td style=\"text-align: right;\">           0.4</td><td style=\"text-align: right;\">            5</td><td style=\"text-align: right;\">         512</td><td style=\"text-align: right;\">0.0001</td><td>INSTANCE</td><td style=\"text-align: right;\">            1</td><td>(2, 2, 4)</td></tr>\n",
       "<tr><td>train_vae_tune_dd20d_00011</td><td>PENDING </td><td>                 </td><td style=\"text-align: right;\">      5</td><td style=\"text-align: right;\">          30</td><td style=\"text-align: right;\">  0.05</td><td>(32, 64, 128)</td><td style=\"text-align: right;\">           0.4</td><td style=\"text-align: right;\">            5</td><td style=\"text-align: right;\">         512</td><td style=\"text-align: right;\">0.0001</td><td>INSTANCE</td><td style=\"text-align: right;\">            1</td><td>(2, 2, 4)</td></tr>\n",
       "<tr><td>train_vae_tune_dd20d_00012</td><td>PENDING </td><td>                 </td><td style=\"text-align: right;\">      1</td><td style=\"text-align: right;\">          30</td><td style=\"text-align: right;\">  0.1 </td><td>(32, 64, 128)</td><td style=\"text-align: right;\">           0.4</td><td style=\"text-align: right;\">            5</td><td style=\"text-align: right;\">         512</td><td style=\"text-align: right;\">0.0001</td><td>INSTANCE</td><td style=\"text-align: right;\">            1</td><td>(2, 2, 4)</td></tr>\n",
       "<tr><td>train_vae_tune_dd20d_00013</td><td>PENDING </td><td>                 </td><td style=\"text-align: right;\">      5</td><td style=\"text-align: right;\">          30</td><td style=\"text-align: right;\">  0.1 </td><td>(32, 64, 128)</td><td style=\"text-align: right;\">           0.4</td><td style=\"text-align: right;\">            5</td><td style=\"text-align: right;\">         512</td><td style=\"text-align: right;\">0.0001</td><td>INSTANCE</td><td style=\"text-align: right;\">            1</td><td>(2, 2, 4)</td></tr>\n",
       "<tr><td>train_vae_tune_dd20d_00014</td><td>PENDING </td><td>                 </td><td style=\"text-align: right;\">      1</td><td style=\"text-align: right;\">          30</td><td style=\"text-align: right;\">  0.5 </td><td>(32, 64, 128)</td><td style=\"text-align: right;\">           0.4</td><td style=\"text-align: right;\">            5</td><td style=\"text-align: right;\">         512</td><td style=\"text-align: right;\">0.0001</td><td>INSTANCE</td><td style=\"text-align: right;\">            1</td><td>(2, 2, 4)</td></tr>\n",
       "<tr><td>train_vae_tune_dd20d_00015</td><td>PENDING </td><td>                 </td><td style=\"text-align: right;\">      5</td><td style=\"text-align: right;\">          30</td><td style=\"text-align: right;\">  0.5 </td><td>(32, 64, 128)</td><td style=\"text-align: right;\">           0.4</td><td style=\"text-align: right;\">            5</td><td style=\"text-align: right;\">         512</td><td style=\"text-align: right;\">0.0001</td><td>INSTANCE</td><td style=\"text-align: right;\">            1</td><td>(2, 2, 4)</td></tr>\n",
       "<tr><td>train_vae_tune_dd20d_00016</td><td>PENDING </td><td>                 </td><td style=\"text-align: right;\">      1</td><td style=\"text-align: right;\">          30</td><td style=\"text-align: right;\">  0.01</td><td>(32, 64, 128)</td><td style=\"text-align: right;\">           0.4</td><td style=\"text-align: right;\">            5</td><td style=\"text-align: right;\">         256</td><td style=\"text-align: right;\">0.001 </td><td>INSTANCE</td><td style=\"text-align: right;\">            1</td><td>(2, 2, 4)</td></tr>\n",
       "</tbody>\n",
       "</table><br><br>"
      ],
      "text/plain": [
       "<IPython.core.display.HTML object>"
      ]
     },
     "metadata": {},
     "output_type": "display_data"
    },
    {
     "name": "stderr",
     "output_type": "stream",
     "text": [
      "\u001b[2m\u001b[36m(train_vae_tune pid=10428)\u001b[0m \n",
      "\u001b[2m\u001b[36m(train_vae_tune pid=10428)\u001b[0m   | Name     | Type           | Params\n",
      "\u001b[2m\u001b[36m(train_vae_tune pid=10428)\u001b[0m --------------------------------------------\n",
      "\u001b[2m\u001b[36m(train_vae_tune pid=10428)\u001b[0m 0 | model    | VarAutoEncoder | 1.1 M \n",
      "\u001b[2m\u001b[36m(train_vae_tune pid=10428)\u001b[0m 1 | vae_loss | KLLoss         | 0     \n",
      "\u001b[2m\u001b[36m(train_vae_tune pid=10428)\u001b[0m 2 | dice     | Dice           | 0     \n",
      "\u001b[2m\u001b[36m(train_vae_tune pid=10428)\u001b[0m --------------------------------------------\n",
      "\u001b[2m\u001b[36m(train_vae_tune pid=10428)\u001b[0m 1.1 M     Trainable params\n",
      "\u001b[2m\u001b[36m(train_vae_tune pid=10428)\u001b[0m 0         Non-trainable params\n",
      "\u001b[2m\u001b[36m(train_vae_tune pid=10428)\u001b[0m 1.1 M     Total params\n",
      "\u001b[2m\u001b[36m(train_vae_tune pid=10428)\u001b[0m 4.516     Total estimated model params size (MB)\n",
      "\u001b[2m\u001b[36m(train_vae_tune pid=10428)\u001b[0m /opt/conda/envs/ray-lightning/lib/python3.7/site-packages/pytorch_lightning/trainer/data_loading.py:133: UserWarning: The dataloader, val_dataloader 0, does not have many workers which may be a bottleneck. Consider increasing the value of the `num_workers` argument` (try 8 which is the number of cpus on this machine) in the `DataLoader` init to improve performance.\n",
      "\u001b[2m\u001b[36m(train_vae_tune pid=10428)\u001b[0m   f\"The dataloader, {name}, does not have many workers which may be a bottleneck.\"\n",
      "\u001b[2m\u001b[36m(train_vae_tune pid=10428)\u001b[0m /opt/conda/envs/ray-lightning/lib/python3.7/site-packages/pytorch_lightning/trainer/data_loading.py:133: UserWarning: The dataloader, train_dataloader, does not have many workers which may be a bottleneck. Consider increasing the value of the `num_workers` argument` (try 8 which is the number of cpus on this machine) in the `DataLoader` init to improve performance.\n",
      "\u001b[2m\u001b[36m(train_vae_tune pid=10428)\u001b[0m   f\"The dataloader, {name}, does not have many workers which may be a bottleneck.\"\n",
      "\u001b[2m\u001b[36m(train_vae_tune pid=10428)\u001b[0m /opt/conda/envs/ray-lightning/lib/python3.7/site-packages/pytorch_lightning/loops/optimization/closure.py:36: LightningDeprecationWarning: One of the returned values {'avg_kl', 'dice'} has a `grad_fn`. We will detach it automatically but this behaviour will change in v1.6. Please detach it manually: `return {'loss': ..., 'something': something.detach()}`\n",
      "\u001b[2m\u001b[36m(train_vae_tune pid=10428)\u001b[0m   f\"One of the returned values {set(extra.keys())} has a `grad_fn`. We will detach it automatically\"\n"
     ]
    },
    {
     "data": {
      "text/html": [
       "== Status ==<br>Current time: 2022-04-13 11:57:26 (running for 00:00:10.34)<br>Memory usage on this node: 13.2/29.4 GiB<br>Using AsyncHyperBand: num_stopped=0\n",
       "Bracket: Iter 2.000: None | Iter 1.000: None<br>Resources requested: 1.0/8 CPUs, 1.0/1 GPUs, 0.0/12.16 GiB heap, 0.0/6.08 GiB objects (0.0/1.0 accelerator_type:T4)<br>Result logdir: /home/jupyter/pl-tutorial/runs/ray/test<br>Number of trials: 17/32 (16 PENDING, 1 RUNNING)<br><table>\n",
       "<thead>\n",
       "<tr><th>Trial name                </th><th>status  </th><th>loc              </th><th style=\"text-align: right;\">  alpha</th><th style=\"text-align: right;\">  batch_size</th><th style=\"text-align: right;\">  beta</th><th>channel      </th><th style=\"text-align: right;\">  dropout_rate</th><th style=\"text-align: right;\">  kernel_size</th><th style=\"text-align: right;\">  latent_dim</th><th style=\"text-align: right;\">    lr</th><th>norm    </th><th style=\"text-align: right;\">  num_resnets</th><th>stride   </th></tr>\n",
       "</thead>\n",
       "<tbody>\n",
       "<tr><td>train_vae_tune_dd20d_00000</td><td>RUNNING </td><td>10.128.0.35:10428</td><td style=\"text-align: right;\">      1</td><td style=\"text-align: right;\">          30</td><td style=\"text-align: right;\">  0.01</td><td>(32, 64, 128)</td><td style=\"text-align: right;\">           0.4</td><td style=\"text-align: right;\">            5</td><td style=\"text-align: right;\">         256</td><td style=\"text-align: right;\">0.0001</td><td>INSTANCE</td><td style=\"text-align: right;\">            1</td><td>(2, 2, 4)</td></tr>\n",
       "<tr><td>train_vae_tune_dd20d_00001</td><td>PENDING </td><td>                 </td><td style=\"text-align: right;\">      5</td><td style=\"text-align: right;\">          30</td><td style=\"text-align: right;\">  0.01</td><td>(32, 64, 128)</td><td style=\"text-align: right;\">           0.4</td><td style=\"text-align: right;\">            5</td><td style=\"text-align: right;\">         256</td><td style=\"text-align: right;\">0.0001</td><td>INSTANCE</td><td style=\"text-align: right;\">            1</td><td>(2, 2, 4)</td></tr>\n",
       "<tr><td>train_vae_tune_dd20d_00002</td><td>PENDING </td><td>                 </td><td style=\"text-align: right;\">      1</td><td style=\"text-align: right;\">          30</td><td style=\"text-align: right;\">  0.05</td><td>(32, 64, 128)</td><td style=\"text-align: right;\">           0.4</td><td style=\"text-align: right;\">            5</td><td style=\"text-align: right;\">         256</td><td style=\"text-align: right;\">0.0001</td><td>INSTANCE</td><td style=\"text-align: right;\">            1</td><td>(2, 2, 4)</td></tr>\n",
       "<tr><td>train_vae_tune_dd20d_00003</td><td>PENDING </td><td>                 </td><td style=\"text-align: right;\">      5</td><td style=\"text-align: right;\">          30</td><td style=\"text-align: right;\">  0.05</td><td>(32, 64, 128)</td><td style=\"text-align: right;\">           0.4</td><td style=\"text-align: right;\">            5</td><td style=\"text-align: right;\">         256</td><td style=\"text-align: right;\">0.0001</td><td>INSTANCE</td><td style=\"text-align: right;\">            1</td><td>(2, 2, 4)</td></tr>\n",
       "<tr><td>train_vae_tune_dd20d_00004</td><td>PENDING </td><td>                 </td><td style=\"text-align: right;\">      1</td><td style=\"text-align: right;\">          30</td><td style=\"text-align: right;\">  0.1 </td><td>(32, 64, 128)</td><td style=\"text-align: right;\">           0.4</td><td style=\"text-align: right;\">            5</td><td style=\"text-align: right;\">         256</td><td style=\"text-align: right;\">0.0001</td><td>INSTANCE</td><td style=\"text-align: right;\">            1</td><td>(2, 2, 4)</td></tr>\n",
       "<tr><td>train_vae_tune_dd20d_00005</td><td>PENDING </td><td>                 </td><td style=\"text-align: right;\">      5</td><td style=\"text-align: right;\">          30</td><td style=\"text-align: right;\">  0.1 </td><td>(32, 64, 128)</td><td style=\"text-align: right;\">           0.4</td><td style=\"text-align: right;\">            5</td><td style=\"text-align: right;\">         256</td><td style=\"text-align: right;\">0.0001</td><td>INSTANCE</td><td style=\"text-align: right;\">            1</td><td>(2, 2, 4)</td></tr>\n",
       "<tr><td>train_vae_tune_dd20d_00006</td><td>PENDING </td><td>                 </td><td style=\"text-align: right;\">      1</td><td style=\"text-align: right;\">          30</td><td style=\"text-align: right;\">  0.5 </td><td>(32, 64, 128)</td><td style=\"text-align: right;\">           0.4</td><td style=\"text-align: right;\">            5</td><td style=\"text-align: right;\">         256</td><td style=\"text-align: right;\">0.0001</td><td>INSTANCE</td><td style=\"text-align: right;\">            1</td><td>(2, 2, 4)</td></tr>\n",
       "<tr><td>train_vae_tune_dd20d_00007</td><td>PENDING </td><td>                 </td><td style=\"text-align: right;\">      5</td><td style=\"text-align: right;\">          30</td><td style=\"text-align: right;\">  0.5 </td><td>(32, 64, 128)</td><td style=\"text-align: right;\">           0.4</td><td style=\"text-align: right;\">            5</td><td style=\"text-align: right;\">         256</td><td style=\"text-align: right;\">0.0001</td><td>INSTANCE</td><td style=\"text-align: right;\">            1</td><td>(2, 2, 4)</td></tr>\n",
       "<tr><td>train_vae_tune_dd20d_00008</td><td>PENDING </td><td>                 </td><td style=\"text-align: right;\">      1</td><td style=\"text-align: right;\">          30</td><td style=\"text-align: right;\">  0.01</td><td>(32, 64, 128)</td><td style=\"text-align: right;\">           0.4</td><td style=\"text-align: right;\">            5</td><td style=\"text-align: right;\">         512</td><td style=\"text-align: right;\">0.0001</td><td>INSTANCE</td><td style=\"text-align: right;\">            1</td><td>(2, 2, 4)</td></tr>\n",
       "<tr><td>train_vae_tune_dd20d_00009</td><td>PENDING </td><td>                 </td><td style=\"text-align: right;\">      5</td><td style=\"text-align: right;\">          30</td><td style=\"text-align: right;\">  0.01</td><td>(32, 64, 128)</td><td style=\"text-align: right;\">           0.4</td><td style=\"text-align: right;\">            5</td><td style=\"text-align: right;\">         512</td><td style=\"text-align: right;\">0.0001</td><td>INSTANCE</td><td style=\"text-align: right;\">            1</td><td>(2, 2, 4)</td></tr>\n",
       "<tr><td>train_vae_tune_dd20d_00010</td><td>PENDING </td><td>                 </td><td style=\"text-align: right;\">      1</td><td style=\"text-align: right;\">          30</td><td style=\"text-align: right;\">  0.05</td><td>(32, 64, 128)</td><td style=\"text-align: right;\">           0.4</td><td style=\"text-align: right;\">            5</td><td style=\"text-align: right;\">         512</td><td style=\"text-align: right;\">0.0001</td><td>INSTANCE</td><td style=\"text-align: right;\">            1</td><td>(2, 2, 4)</td></tr>\n",
       "<tr><td>train_vae_tune_dd20d_00011</td><td>PENDING </td><td>                 </td><td style=\"text-align: right;\">      5</td><td style=\"text-align: right;\">          30</td><td style=\"text-align: right;\">  0.05</td><td>(32, 64, 128)</td><td style=\"text-align: right;\">           0.4</td><td style=\"text-align: right;\">            5</td><td style=\"text-align: right;\">         512</td><td style=\"text-align: right;\">0.0001</td><td>INSTANCE</td><td style=\"text-align: right;\">            1</td><td>(2, 2, 4)</td></tr>\n",
       "<tr><td>train_vae_tune_dd20d_00012</td><td>PENDING </td><td>                 </td><td style=\"text-align: right;\">      1</td><td style=\"text-align: right;\">          30</td><td style=\"text-align: right;\">  0.1 </td><td>(32, 64, 128)</td><td style=\"text-align: right;\">           0.4</td><td style=\"text-align: right;\">            5</td><td style=\"text-align: right;\">         512</td><td style=\"text-align: right;\">0.0001</td><td>INSTANCE</td><td style=\"text-align: right;\">            1</td><td>(2, 2, 4)</td></tr>\n",
       "<tr><td>train_vae_tune_dd20d_00013</td><td>PENDING </td><td>                 </td><td style=\"text-align: right;\">      5</td><td style=\"text-align: right;\">          30</td><td style=\"text-align: right;\">  0.1 </td><td>(32, 64, 128)</td><td style=\"text-align: right;\">           0.4</td><td style=\"text-align: right;\">            5</td><td style=\"text-align: right;\">         512</td><td style=\"text-align: right;\">0.0001</td><td>INSTANCE</td><td style=\"text-align: right;\">            1</td><td>(2, 2, 4)</td></tr>\n",
       "<tr><td>train_vae_tune_dd20d_00014</td><td>PENDING </td><td>                 </td><td style=\"text-align: right;\">      1</td><td style=\"text-align: right;\">          30</td><td style=\"text-align: right;\">  0.5 </td><td>(32, 64, 128)</td><td style=\"text-align: right;\">           0.4</td><td style=\"text-align: right;\">            5</td><td style=\"text-align: right;\">         512</td><td style=\"text-align: right;\">0.0001</td><td>INSTANCE</td><td style=\"text-align: right;\">            1</td><td>(2, 2, 4)</td></tr>\n",
       "<tr><td>train_vae_tune_dd20d_00015</td><td>PENDING </td><td>                 </td><td style=\"text-align: right;\">      5</td><td style=\"text-align: right;\">          30</td><td style=\"text-align: right;\">  0.5 </td><td>(32, 64, 128)</td><td style=\"text-align: right;\">           0.4</td><td style=\"text-align: right;\">            5</td><td style=\"text-align: right;\">         512</td><td style=\"text-align: right;\">0.0001</td><td>INSTANCE</td><td style=\"text-align: right;\">            1</td><td>(2, 2, 4)</td></tr>\n",
       "<tr><td>train_vae_tune_dd20d_00016</td><td>PENDING </td><td>                 </td><td style=\"text-align: right;\">      1</td><td style=\"text-align: right;\">          30</td><td style=\"text-align: right;\">  0.01</td><td>(32, 64, 128)</td><td style=\"text-align: right;\">           0.4</td><td style=\"text-align: right;\">            5</td><td style=\"text-align: right;\">         256</td><td style=\"text-align: right;\">0.001 </td><td>INSTANCE</td><td style=\"text-align: right;\">            1</td><td>(2, 2, 4)</td></tr>\n",
       "</tbody>\n",
       "</table><br><br>"
      ],
      "text/plain": [
       "<IPython.core.display.HTML object>"
      ]
     },
     "metadata": {},
     "output_type": "display_data"
    },
    {
     "data": {
      "text/html": [
       "== Status ==<br>Current time: 2022-04-13 11:57:32 (running for 00:00:15.80)<br>Memory usage on this node: 13.2/29.4 GiB<br>Using AsyncHyperBand: num_stopped=0\n",
       "Bracket: Iter 2.000: None | Iter 1.000: None<br>Resources requested: 1.0/8 CPUs, 1.0/1 GPUs, 0.0/12.16 GiB heap, 0.0/6.08 GiB objects (0.0/1.0 accelerator_type:T4)<br>Result logdir: /home/jupyter/pl-tutorial/runs/ray/test<br>Number of trials: 17/32 (16 PENDING, 1 RUNNING)<br><table>\n",
       "<thead>\n",
       "<tr><th>Trial name                </th><th>status  </th><th>loc              </th><th style=\"text-align: right;\">  alpha</th><th style=\"text-align: right;\">  batch_size</th><th style=\"text-align: right;\">  beta</th><th>channel      </th><th style=\"text-align: right;\">  dropout_rate</th><th style=\"text-align: right;\">  kernel_size</th><th style=\"text-align: right;\">  latent_dim</th><th style=\"text-align: right;\">    lr</th><th>norm    </th><th style=\"text-align: right;\">  num_resnets</th><th>stride   </th></tr>\n",
       "</thead>\n",
       "<tbody>\n",
       "<tr><td>train_vae_tune_dd20d_00000</td><td>RUNNING </td><td>10.128.0.35:10428</td><td style=\"text-align: right;\">      1</td><td style=\"text-align: right;\">          30</td><td style=\"text-align: right;\">  0.01</td><td>(32, 64, 128)</td><td style=\"text-align: right;\">           0.4</td><td style=\"text-align: right;\">            5</td><td style=\"text-align: right;\">         256</td><td style=\"text-align: right;\">0.0001</td><td>INSTANCE</td><td style=\"text-align: right;\">            1</td><td>(2, 2, 4)</td></tr>\n",
       "<tr><td>train_vae_tune_dd20d_00001</td><td>PENDING </td><td>                 </td><td style=\"text-align: right;\">      5</td><td style=\"text-align: right;\">          30</td><td style=\"text-align: right;\">  0.01</td><td>(32, 64, 128)</td><td style=\"text-align: right;\">           0.4</td><td style=\"text-align: right;\">            5</td><td style=\"text-align: right;\">         256</td><td style=\"text-align: right;\">0.0001</td><td>INSTANCE</td><td style=\"text-align: right;\">            1</td><td>(2, 2, 4)</td></tr>\n",
       "<tr><td>train_vae_tune_dd20d_00002</td><td>PENDING </td><td>                 </td><td style=\"text-align: right;\">      1</td><td style=\"text-align: right;\">          30</td><td style=\"text-align: right;\">  0.05</td><td>(32, 64, 128)</td><td style=\"text-align: right;\">           0.4</td><td style=\"text-align: right;\">            5</td><td style=\"text-align: right;\">         256</td><td style=\"text-align: right;\">0.0001</td><td>INSTANCE</td><td style=\"text-align: right;\">            1</td><td>(2, 2, 4)</td></tr>\n",
       "<tr><td>train_vae_tune_dd20d_00003</td><td>PENDING </td><td>                 </td><td style=\"text-align: right;\">      5</td><td style=\"text-align: right;\">          30</td><td style=\"text-align: right;\">  0.05</td><td>(32, 64, 128)</td><td style=\"text-align: right;\">           0.4</td><td style=\"text-align: right;\">            5</td><td style=\"text-align: right;\">         256</td><td style=\"text-align: right;\">0.0001</td><td>INSTANCE</td><td style=\"text-align: right;\">            1</td><td>(2, 2, 4)</td></tr>\n",
       "<tr><td>train_vae_tune_dd20d_00004</td><td>PENDING </td><td>                 </td><td style=\"text-align: right;\">      1</td><td style=\"text-align: right;\">          30</td><td style=\"text-align: right;\">  0.1 </td><td>(32, 64, 128)</td><td style=\"text-align: right;\">           0.4</td><td style=\"text-align: right;\">            5</td><td style=\"text-align: right;\">         256</td><td style=\"text-align: right;\">0.0001</td><td>INSTANCE</td><td style=\"text-align: right;\">            1</td><td>(2, 2, 4)</td></tr>\n",
       "<tr><td>train_vae_tune_dd20d_00005</td><td>PENDING </td><td>                 </td><td style=\"text-align: right;\">      5</td><td style=\"text-align: right;\">          30</td><td style=\"text-align: right;\">  0.1 </td><td>(32, 64, 128)</td><td style=\"text-align: right;\">           0.4</td><td style=\"text-align: right;\">            5</td><td style=\"text-align: right;\">         256</td><td style=\"text-align: right;\">0.0001</td><td>INSTANCE</td><td style=\"text-align: right;\">            1</td><td>(2, 2, 4)</td></tr>\n",
       "<tr><td>train_vae_tune_dd20d_00006</td><td>PENDING </td><td>                 </td><td style=\"text-align: right;\">      1</td><td style=\"text-align: right;\">          30</td><td style=\"text-align: right;\">  0.5 </td><td>(32, 64, 128)</td><td style=\"text-align: right;\">           0.4</td><td style=\"text-align: right;\">            5</td><td style=\"text-align: right;\">         256</td><td style=\"text-align: right;\">0.0001</td><td>INSTANCE</td><td style=\"text-align: right;\">            1</td><td>(2, 2, 4)</td></tr>\n",
       "<tr><td>train_vae_tune_dd20d_00007</td><td>PENDING </td><td>                 </td><td style=\"text-align: right;\">      5</td><td style=\"text-align: right;\">          30</td><td style=\"text-align: right;\">  0.5 </td><td>(32, 64, 128)</td><td style=\"text-align: right;\">           0.4</td><td style=\"text-align: right;\">            5</td><td style=\"text-align: right;\">         256</td><td style=\"text-align: right;\">0.0001</td><td>INSTANCE</td><td style=\"text-align: right;\">            1</td><td>(2, 2, 4)</td></tr>\n",
       "<tr><td>train_vae_tune_dd20d_00008</td><td>PENDING </td><td>                 </td><td style=\"text-align: right;\">      1</td><td style=\"text-align: right;\">          30</td><td style=\"text-align: right;\">  0.01</td><td>(32, 64, 128)</td><td style=\"text-align: right;\">           0.4</td><td style=\"text-align: right;\">            5</td><td style=\"text-align: right;\">         512</td><td style=\"text-align: right;\">0.0001</td><td>INSTANCE</td><td style=\"text-align: right;\">            1</td><td>(2, 2, 4)</td></tr>\n",
       "<tr><td>train_vae_tune_dd20d_00009</td><td>PENDING </td><td>                 </td><td style=\"text-align: right;\">      5</td><td style=\"text-align: right;\">          30</td><td style=\"text-align: right;\">  0.01</td><td>(32, 64, 128)</td><td style=\"text-align: right;\">           0.4</td><td style=\"text-align: right;\">            5</td><td style=\"text-align: right;\">         512</td><td style=\"text-align: right;\">0.0001</td><td>INSTANCE</td><td style=\"text-align: right;\">            1</td><td>(2, 2, 4)</td></tr>\n",
       "<tr><td>train_vae_tune_dd20d_00010</td><td>PENDING </td><td>                 </td><td style=\"text-align: right;\">      1</td><td style=\"text-align: right;\">          30</td><td style=\"text-align: right;\">  0.05</td><td>(32, 64, 128)</td><td style=\"text-align: right;\">           0.4</td><td style=\"text-align: right;\">            5</td><td style=\"text-align: right;\">         512</td><td style=\"text-align: right;\">0.0001</td><td>INSTANCE</td><td style=\"text-align: right;\">            1</td><td>(2, 2, 4)</td></tr>\n",
       "<tr><td>train_vae_tune_dd20d_00011</td><td>PENDING </td><td>                 </td><td style=\"text-align: right;\">      5</td><td style=\"text-align: right;\">          30</td><td style=\"text-align: right;\">  0.05</td><td>(32, 64, 128)</td><td style=\"text-align: right;\">           0.4</td><td style=\"text-align: right;\">            5</td><td style=\"text-align: right;\">         512</td><td style=\"text-align: right;\">0.0001</td><td>INSTANCE</td><td style=\"text-align: right;\">            1</td><td>(2, 2, 4)</td></tr>\n",
       "<tr><td>train_vae_tune_dd20d_00012</td><td>PENDING </td><td>                 </td><td style=\"text-align: right;\">      1</td><td style=\"text-align: right;\">          30</td><td style=\"text-align: right;\">  0.1 </td><td>(32, 64, 128)</td><td style=\"text-align: right;\">           0.4</td><td style=\"text-align: right;\">            5</td><td style=\"text-align: right;\">         512</td><td style=\"text-align: right;\">0.0001</td><td>INSTANCE</td><td style=\"text-align: right;\">            1</td><td>(2, 2, 4)</td></tr>\n",
       "<tr><td>train_vae_tune_dd20d_00013</td><td>PENDING </td><td>                 </td><td style=\"text-align: right;\">      5</td><td style=\"text-align: right;\">          30</td><td style=\"text-align: right;\">  0.1 </td><td>(32, 64, 128)</td><td style=\"text-align: right;\">           0.4</td><td style=\"text-align: right;\">            5</td><td style=\"text-align: right;\">         512</td><td style=\"text-align: right;\">0.0001</td><td>INSTANCE</td><td style=\"text-align: right;\">            1</td><td>(2, 2, 4)</td></tr>\n",
       "<tr><td>train_vae_tune_dd20d_00014</td><td>PENDING </td><td>                 </td><td style=\"text-align: right;\">      1</td><td style=\"text-align: right;\">          30</td><td style=\"text-align: right;\">  0.5 </td><td>(32, 64, 128)</td><td style=\"text-align: right;\">           0.4</td><td style=\"text-align: right;\">            5</td><td style=\"text-align: right;\">         512</td><td style=\"text-align: right;\">0.0001</td><td>INSTANCE</td><td style=\"text-align: right;\">            1</td><td>(2, 2, 4)</td></tr>\n",
       "<tr><td>train_vae_tune_dd20d_00015</td><td>PENDING </td><td>                 </td><td style=\"text-align: right;\">      5</td><td style=\"text-align: right;\">          30</td><td style=\"text-align: right;\">  0.5 </td><td>(32, 64, 128)</td><td style=\"text-align: right;\">           0.4</td><td style=\"text-align: right;\">            5</td><td style=\"text-align: right;\">         512</td><td style=\"text-align: right;\">0.0001</td><td>INSTANCE</td><td style=\"text-align: right;\">            1</td><td>(2, 2, 4)</td></tr>\n",
       "<tr><td>train_vae_tune_dd20d_00016</td><td>PENDING </td><td>                 </td><td style=\"text-align: right;\">      1</td><td style=\"text-align: right;\">          30</td><td style=\"text-align: right;\">  0.01</td><td>(32, 64, 128)</td><td style=\"text-align: right;\">           0.4</td><td style=\"text-align: right;\">            5</td><td style=\"text-align: right;\">         256</td><td style=\"text-align: right;\">0.001 </td><td>INSTANCE</td><td style=\"text-align: right;\">            1</td><td>(2, 2, 4)</td></tr>\n",
       "</tbody>\n",
       "</table><br><br>"
      ],
      "text/plain": [
       "<IPython.core.display.HTML object>"
      ]
     },
     "metadata": {},
     "output_type": "display_data"
    },
    {
     "data": {
      "text/html": [
       "== Status ==<br>Current time: 2022-04-13 11:57:37 (running for 00:00:20.82)<br>Memory usage on this node: 13.2/29.4 GiB<br>Using AsyncHyperBand: num_stopped=0\n",
       "Bracket: Iter 2.000: None | Iter 1.000: None<br>Resources requested: 1.0/8 CPUs, 1.0/1 GPUs, 0.0/12.16 GiB heap, 0.0/6.08 GiB objects (0.0/1.0 accelerator_type:T4)<br>Result logdir: /home/jupyter/pl-tutorial/runs/ray/test<br>Number of trials: 17/32 (16 PENDING, 1 RUNNING)<br><table>\n",
       "<thead>\n",
       "<tr><th>Trial name                </th><th>status  </th><th>loc              </th><th style=\"text-align: right;\">  alpha</th><th style=\"text-align: right;\">  batch_size</th><th style=\"text-align: right;\">  beta</th><th>channel      </th><th style=\"text-align: right;\">  dropout_rate</th><th style=\"text-align: right;\">  kernel_size</th><th style=\"text-align: right;\">  latent_dim</th><th style=\"text-align: right;\">    lr</th><th>norm    </th><th style=\"text-align: right;\">  num_resnets</th><th>stride   </th></tr>\n",
       "</thead>\n",
       "<tbody>\n",
       "<tr><td>train_vae_tune_dd20d_00000</td><td>RUNNING </td><td>10.128.0.35:10428</td><td style=\"text-align: right;\">      1</td><td style=\"text-align: right;\">          30</td><td style=\"text-align: right;\">  0.01</td><td>(32, 64, 128)</td><td style=\"text-align: right;\">           0.4</td><td style=\"text-align: right;\">            5</td><td style=\"text-align: right;\">         256</td><td style=\"text-align: right;\">0.0001</td><td>INSTANCE</td><td style=\"text-align: right;\">            1</td><td>(2, 2, 4)</td></tr>\n",
       "<tr><td>train_vae_tune_dd20d_00001</td><td>PENDING </td><td>                 </td><td style=\"text-align: right;\">      5</td><td style=\"text-align: right;\">          30</td><td style=\"text-align: right;\">  0.01</td><td>(32, 64, 128)</td><td style=\"text-align: right;\">           0.4</td><td style=\"text-align: right;\">            5</td><td style=\"text-align: right;\">         256</td><td style=\"text-align: right;\">0.0001</td><td>INSTANCE</td><td style=\"text-align: right;\">            1</td><td>(2, 2, 4)</td></tr>\n",
       "<tr><td>train_vae_tune_dd20d_00002</td><td>PENDING </td><td>                 </td><td style=\"text-align: right;\">      1</td><td style=\"text-align: right;\">          30</td><td style=\"text-align: right;\">  0.05</td><td>(32, 64, 128)</td><td style=\"text-align: right;\">           0.4</td><td style=\"text-align: right;\">            5</td><td style=\"text-align: right;\">         256</td><td style=\"text-align: right;\">0.0001</td><td>INSTANCE</td><td style=\"text-align: right;\">            1</td><td>(2, 2, 4)</td></tr>\n",
       "<tr><td>train_vae_tune_dd20d_00003</td><td>PENDING </td><td>                 </td><td style=\"text-align: right;\">      5</td><td style=\"text-align: right;\">          30</td><td style=\"text-align: right;\">  0.05</td><td>(32, 64, 128)</td><td style=\"text-align: right;\">           0.4</td><td style=\"text-align: right;\">            5</td><td style=\"text-align: right;\">         256</td><td style=\"text-align: right;\">0.0001</td><td>INSTANCE</td><td style=\"text-align: right;\">            1</td><td>(2, 2, 4)</td></tr>\n",
       "<tr><td>train_vae_tune_dd20d_00004</td><td>PENDING </td><td>                 </td><td style=\"text-align: right;\">      1</td><td style=\"text-align: right;\">          30</td><td style=\"text-align: right;\">  0.1 </td><td>(32, 64, 128)</td><td style=\"text-align: right;\">           0.4</td><td style=\"text-align: right;\">            5</td><td style=\"text-align: right;\">         256</td><td style=\"text-align: right;\">0.0001</td><td>INSTANCE</td><td style=\"text-align: right;\">            1</td><td>(2, 2, 4)</td></tr>\n",
       "<tr><td>train_vae_tune_dd20d_00005</td><td>PENDING </td><td>                 </td><td style=\"text-align: right;\">      5</td><td style=\"text-align: right;\">          30</td><td style=\"text-align: right;\">  0.1 </td><td>(32, 64, 128)</td><td style=\"text-align: right;\">           0.4</td><td style=\"text-align: right;\">            5</td><td style=\"text-align: right;\">         256</td><td style=\"text-align: right;\">0.0001</td><td>INSTANCE</td><td style=\"text-align: right;\">            1</td><td>(2, 2, 4)</td></tr>\n",
       "<tr><td>train_vae_tune_dd20d_00006</td><td>PENDING </td><td>                 </td><td style=\"text-align: right;\">      1</td><td style=\"text-align: right;\">          30</td><td style=\"text-align: right;\">  0.5 </td><td>(32, 64, 128)</td><td style=\"text-align: right;\">           0.4</td><td style=\"text-align: right;\">            5</td><td style=\"text-align: right;\">         256</td><td style=\"text-align: right;\">0.0001</td><td>INSTANCE</td><td style=\"text-align: right;\">            1</td><td>(2, 2, 4)</td></tr>\n",
       "<tr><td>train_vae_tune_dd20d_00007</td><td>PENDING </td><td>                 </td><td style=\"text-align: right;\">      5</td><td style=\"text-align: right;\">          30</td><td style=\"text-align: right;\">  0.5 </td><td>(32, 64, 128)</td><td style=\"text-align: right;\">           0.4</td><td style=\"text-align: right;\">            5</td><td style=\"text-align: right;\">         256</td><td style=\"text-align: right;\">0.0001</td><td>INSTANCE</td><td style=\"text-align: right;\">            1</td><td>(2, 2, 4)</td></tr>\n",
       "<tr><td>train_vae_tune_dd20d_00008</td><td>PENDING </td><td>                 </td><td style=\"text-align: right;\">      1</td><td style=\"text-align: right;\">          30</td><td style=\"text-align: right;\">  0.01</td><td>(32, 64, 128)</td><td style=\"text-align: right;\">           0.4</td><td style=\"text-align: right;\">            5</td><td style=\"text-align: right;\">         512</td><td style=\"text-align: right;\">0.0001</td><td>INSTANCE</td><td style=\"text-align: right;\">            1</td><td>(2, 2, 4)</td></tr>\n",
       "<tr><td>train_vae_tune_dd20d_00009</td><td>PENDING </td><td>                 </td><td style=\"text-align: right;\">      5</td><td style=\"text-align: right;\">          30</td><td style=\"text-align: right;\">  0.01</td><td>(32, 64, 128)</td><td style=\"text-align: right;\">           0.4</td><td style=\"text-align: right;\">            5</td><td style=\"text-align: right;\">         512</td><td style=\"text-align: right;\">0.0001</td><td>INSTANCE</td><td style=\"text-align: right;\">            1</td><td>(2, 2, 4)</td></tr>\n",
       "<tr><td>train_vae_tune_dd20d_00010</td><td>PENDING </td><td>                 </td><td style=\"text-align: right;\">      1</td><td style=\"text-align: right;\">          30</td><td style=\"text-align: right;\">  0.05</td><td>(32, 64, 128)</td><td style=\"text-align: right;\">           0.4</td><td style=\"text-align: right;\">            5</td><td style=\"text-align: right;\">         512</td><td style=\"text-align: right;\">0.0001</td><td>INSTANCE</td><td style=\"text-align: right;\">            1</td><td>(2, 2, 4)</td></tr>\n",
       "<tr><td>train_vae_tune_dd20d_00011</td><td>PENDING </td><td>                 </td><td style=\"text-align: right;\">      5</td><td style=\"text-align: right;\">          30</td><td style=\"text-align: right;\">  0.05</td><td>(32, 64, 128)</td><td style=\"text-align: right;\">           0.4</td><td style=\"text-align: right;\">            5</td><td style=\"text-align: right;\">         512</td><td style=\"text-align: right;\">0.0001</td><td>INSTANCE</td><td style=\"text-align: right;\">            1</td><td>(2, 2, 4)</td></tr>\n",
       "<tr><td>train_vae_tune_dd20d_00012</td><td>PENDING </td><td>                 </td><td style=\"text-align: right;\">      1</td><td style=\"text-align: right;\">          30</td><td style=\"text-align: right;\">  0.1 </td><td>(32, 64, 128)</td><td style=\"text-align: right;\">           0.4</td><td style=\"text-align: right;\">            5</td><td style=\"text-align: right;\">         512</td><td style=\"text-align: right;\">0.0001</td><td>INSTANCE</td><td style=\"text-align: right;\">            1</td><td>(2, 2, 4)</td></tr>\n",
       "<tr><td>train_vae_tune_dd20d_00013</td><td>PENDING </td><td>                 </td><td style=\"text-align: right;\">      5</td><td style=\"text-align: right;\">          30</td><td style=\"text-align: right;\">  0.1 </td><td>(32, 64, 128)</td><td style=\"text-align: right;\">           0.4</td><td style=\"text-align: right;\">            5</td><td style=\"text-align: right;\">         512</td><td style=\"text-align: right;\">0.0001</td><td>INSTANCE</td><td style=\"text-align: right;\">            1</td><td>(2, 2, 4)</td></tr>\n",
       "<tr><td>train_vae_tune_dd20d_00014</td><td>PENDING </td><td>                 </td><td style=\"text-align: right;\">      1</td><td style=\"text-align: right;\">          30</td><td style=\"text-align: right;\">  0.5 </td><td>(32, 64, 128)</td><td style=\"text-align: right;\">           0.4</td><td style=\"text-align: right;\">            5</td><td style=\"text-align: right;\">         512</td><td style=\"text-align: right;\">0.0001</td><td>INSTANCE</td><td style=\"text-align: right;\">            1</td><td>(2, 2, 4)</td></tr>\n",
       "<tr><td>train_vae_tune_dd20d_00015</td><td>PENDING </td><td>                 </td><td style=\"text-align: right;\">      5</td><td style=\"text-align: right;\">          30</td><td style=\"text-align: right;\">  0.5 </td><td>(32, 64, 128)</td><td style=\"text-align: right;\">           0.4</td><td style=\"text-align: right;\">            5</td><td style=\"text-align: right;\">         512</td><td style=\"text-align: right;\">0.0001</td><td>INSTANCE</td><td style=\"text-align: right;\">            1</td><td>(2, 2, 4)</td></tr>\n",
       "<tr><td>train_vae_tune_dd20d_00016</td><td>PENDING </td><td>                 </td><td style=\"text-align: right;\">      1</td><td style=\"text-align: right;\">          30</td><td style=\"text-align: right;\">  0.01</td><td>(32, 64, 128)</td><td style=\"text-align: right;\">           0.4</td><td style=\"text-align: right;\">            5</td><td style=\"text-align: right;\">         256</td><td style=\"text-align: right;\">0.001 </td><td>INSTANCE</td><td style=\"text-align: right;\">            1</td><td>(2, 2, 4)</td></tr>\n",
       "</tbody>\n",
       "</table><br><br>"
      ],
      "text/plain": [
       "<IPython.core.display.HTML object>"
      ]
     },
     "metadata": {},
     "output_type": "display_data"
    },
    {
     "data": {
      "text/html": [
       "== Status ==<br>Current time: 2022-04-13 11:57:42 (running for 00:00:25.84)<br>Memory usage on this node: 13.2/29.4 GiB<br>Using AsyncHyperBand: num_stopped=0\n",
       "Bracket: Iter 2.000: None | Iter 1.000: None<br>Resources requested: 1.0/8 CPUs, 1.0/1 GPUs, 0.0/12.16 GiB heap, 0.0/6.08 GiB objects (0.0/1.0 accelerator_type:T4)<br>Result logdir: /home/jupyter/pl-tutorial/runs/ray/test<br>Number of trials: 17/32 (16 PENDING, 1 RUNNING)<br><table>\n",
       "<thead>\n",
       "<tr><th>Trial name                </th><th>status  </th><th>loc              </th><th style=\"text-align: right;\">  alpha</th><th style=\"text-align: right;\">  batch_size</th><th style=\"text-align: right;\">  beta</th><th>channel      </th><th style=\"text-align: right;\">  dropout_rate</th><th style=\"text-align: right;\">  kernel_size</th><th style=\"text-align: right;\">  latent_dim</th><th style=\"text-align: right;\">    lr</th><th>norm    </th><th style=\"text-align: right;\">  num_resnets</th><th>stride   </th></tr>\n",
       "</thead>\n",
       "<tbody>\n",
       "<tr><td>train_vae_tune_dd20d_00000</td><td>RUNNING </td><td>10.128.0.35:10428</td><td style=\"text-align: right;\">      1</td><td style=\"text-align: right;\">          30</td><td style=\"text-align: right;\">  0.01</td><td>(32, 64, 128)</td><td style=\"text-align: right;\">           0.4</td><td style=\"text-align: right;\">            5</td><td style=\"text-align: right;\">         256</td><td style=\"text-align: right;\">0.0001</td><td>INSTANCE</td><td style=\"text-align: right;\">            1</td><td>(2, 2, 4)</td></tr>\n",
       "<tr><td>train_vae_tune_dd20d_00001</td><td>PENDING </td><td>                 </td><td style=\"text-align: right;\">      5</td><td style=\"text-align: right;\">          30</td><td style=\"text-align: right;\">  0.01</td><td>(32, 64, 128)</td><td style=\"text-align: right;\">           0.4</td><td style=\"text-align: right;\">            5</td><td style=\"text-align: right;\">         256</td><td style=\"text-align: right;\">0.0001</td><td>INSTANCE</td><td style=\"text-align: right;\">            1</td><td>(2, 2, 4)</td></tr>\n",
       "<tr><td>train_vae_tune_dd20d_00002</td><td>PENDING </td><td>                 </td><td style=\"text-align: right;\">      1</td><td style=\"text-align: right;\">          30</td><td style=\"text-align: right;\">  0.05</td><td>(32, 64, 128)</td><td style=\"text-align: right;\">           0.4</td><td style=\"text-align: right;\">            5</td><td style=\"text-align: right;\">         256</td><td style=\"text-align: right;\">0.0001</td><td>INSTANCE</td><td style=\"text-align: right;\">            1</td><td>(2, 2, 4)</td></tr>\n",
       "<tr><td>train_vae_tune_dd20d_00003</td><td>PENDING </td><td>                 </td><td style=\"text-align: right;\">      5</td><td style=\"text-align: right;\">          30</td><td style=\"text-align: right;\">  0.05</td><td>(32, 64, 128)</td><td style=\"text-align: right;\">           0.4</td><td style=\"text-align: right;\">            5</td><td style=\"text-align: right;\">         256</td><td style=\"text-align: right;\">0.0001</td><td>INSTANCE</td><td style=\"text-align: right;\">            1</td><td>(2, 2, 4)</td></tr>\n",
       "<tr><td>train_vae_tune_dd20d_00004</td><td>PENDING </td><td>                 </td><td style=\"text-align: right;\">      1</td><td style=\"text-align: right;\">          30</td><td style=\"text-align: right;\">  0.1 </td><td>(32, 64, 128)</td><td style=\"text-align: right;\">           0.4</td><td style=\"text-align: right;\">            5</td><td style=\"text-align: right;\">         256</td><td style=\"text-align: right;\">0.0001</td><td>INSTANCE</td><td style=\"text-align: right;\">            1</td><td>(2, 2, 4)</td></tr>\n",
       "<tr><td>train_vae_tune_dd20d_00005</td><td>PENDING </td><td>                 </td><td style=\"text-align: right;\">      5</td><td style=\"text-align: right;\">          30</td><td style=\"text-align: right;\">  0.1 </td><td>(32, 64, 128)</td><td style=\"text-align: right;\">           0.4</td><td style=\"text-align: right;\">            5</td><td style=\"text-align: right;\">         256</td><td style=\"text-align: right;\">0.0001</td><td>INSTANCE</td><td style=\"text-align: right;\">            1</td><td>(2, 2, 4)</td></tr>\n",
       "<tr><td>train_vae_tune_dd20d_00006</td><td>PENDING </td><td>                 </td><td style=\"text-align: right;\">      1</td><td style=\"text-align: right;\">          30</td><td style=\"text-align: right;\">  0.5 </td><td>(32, 64, 128)</td><td style=\"text-align: right;\">           0.4</td><td style=\"text-align: right;\">            5</td><td style=\"text-align: right;\">         256</td><td style=\"text-align: right;\">0.0001</td><td>INSTANCE</td><td style=\"text-align: right;\">            1</td><td>(2, 2, 4)</td></tr>\n",
       "<tr><td>train_vae_tune_dd20d_00007</td><td>PENDING </td><td>                 </td><td style=\"text-align: right;\">      5</td><td style=\"text-align: right;\">          30</td><td style=\"text-align: right;\">  0.5 </td><td>(32, 64, 128)</td><td style=\"text-align: right;\">           0.4</td><td style=\"text-align: right;\">            5</td><td style=\"text-align: right;\">         256</td><td style=\"text-align: right;\">0.0001</td><td>INSTANCE</td><td style=\"text-align: right;\">            1</td><td>(2, 2, 4)</td></tr>\n",
       "<tr><td>train_vae_tune_dd20d_00008</td><td>PENDING </td><td>                 </td><td style=\"text-align: right;\">      1</td><td style=\"text-align: right;\">          30</td><td style=\"text-align: right;\">  0.01</td><td>(32, 64, 128)</td><td style=\"text-align: right;\">           0.4</td><td style=\"text-align: right;\">            5</td><td style=\"text-align: right;\">         512</td><td style=\"text-align: right;\">0.0001</td><td>INSTANCE</td><td style=\"text-align: right;\">            1</td><td>(2, 2, 4)</td></tr>\n",
       "<tr><td>train_vae_tune_dd20d_00009</td><td>PENDING </td><td>                 </td><td style=\"text-align: right;\">      5</td><td style=\"text-align: right;\">          30</td><td style=\"text-align: right;\">  0.01</td><td>(32, 64, 128)</td><td style=\"text-align: right;\">           0.4</td><td style=\"text-align: right;\">            5</td><td style=\"text-align: right;\">         512</td><td style=\"text-align: right;\">0.0001</td><td>INSTANCE</td><td style=\"text-align: right;\">            1</td><td>(2, 2, 4)</td></tr>\n",
       "<tr><td>train_vae_tune_dd20d_00010</td><td>PENDING </td><td>                 </td><td style=\"text-align: right;\">      1</td><td style=\"text-align: right;\">          30</td><td style=\"text-align: right;\">  0.05</td><td>(32, 64, 128)</td><td style=\"text-align: right;\">           0.4</td><td style=\"text-align: right;\">            5</td><td style=\"text-align: right;\">         512</td><td style=\"text-align: right;\">0.0001</td><td>INSTANCE</td><td style=\"text-align: right;\">            1</td><td>(2, 2, 4)</td></tr>\n",
       "<tr><td>train_vae_tune_dd20d_00011</td><td>PENDING </td><td>                 </td><td style=\"text-align: right;\">      5</td><td style=\"text-align: right;\">          30</td><td style=\"text-align: right;\">  0.05</td><td>(32, 64, 128)</td><td style=\"text-align: right;\">           0.4</td><td style=\"text-align: right;\">            5</td><td style=\"text-align: right;\">         512</td><td style=\"text-align: right;\">0.0001</td><td>INSTANCE</td><td style=\"text-align: right;\">            1</td><td>(2, 2, 4)</td></tr>\n",
       "<tr><td>train_vae_tune_dd20d_00012</td><td>PENDING </td><td>                 </td><td style=\"text-align: right;\">      1</td><td style=\"text-align: right;\">          30</td><td style=\"text-align: right;\">  0.1 </td><td>(32, 64, 128)</td><td style=\"text-align: right;\">           0.4</td><td style=\"text-align: right;\">            5</td><td style=\"text-align: right;\">         512</td><td style=\"text-align: right;\">0.0001</td><td>INSTANCE</td><td style=\"text-align: right;\">            1</td><td>(2, 2, 4)</td></tr>\n",
       "<tr><td>train_vae_tune_dd20d_00013</td><td>PENDING </td><td>                 </td><td style=\"text-align: right;\">      5</td><td style=\"text-align: right;\">          30</td><td style=\"text-align: right;\">  0.1 </td><td>(32, 64, 128)</td><td style=\"text-align: right;\">           0.4</td><td style=\"text-align: right;\">            5</td><td style=\"text-align: right;\">         512</td><td style=\"text-align: right;\">0.0001</td><td>INSTANCE</td><td style=\"text-align: right;\">            1</td><td>(2, 2, 4)</td></tr>\n",
       "<tr><td>train_vae_tune_dd20d_00014</td><td>PENDING </td><td>                 </td><td style=\"text-align: right;\">      1</td><td style=\"text-align: right;\">          30</td><td style=\"text-align: right;\">  0.5 </td><td>(32, 64, 128)</td><td style=\"text-align: right;\">           0.4</td><td style=\"text-align: right;\">            5</td><td style=\"text-align: right;\">         512</td><td style=\"text-align: right;\">0.0001</td><td>INSTANCE</td><td style=\"text-align: right;\">            1</td><td>(2, 2, 4)</td></tr>\n",
       "<tr><td>train_vae_tune_dd20d_00015</td><td>PENDING </td><td>                 </td><td style=\"text-align: right;\">      5</td><td style=\"text-align: right;\">          30</td><td style=\"text-align: right;\">  0.5 </td><td>(32, 64, 128)</td><td style=\"text-align: right;\">           0.4</td><td style=\"text-align: right;\">            5</td><td style=\"text-align: right;\">         512</td><td style=\"text-align: right;\">0.0001</td><td>INSTANCE</td><td style=\"text-align: right;\">            1</td><td>(2, 2, 4)</td></tr>\n",
       "<tr><td>train_vae_tune_dd20d_00016</td><td>PENDING </td><td>                 </td><td style=\"text-align: right;\">      1</td><td style=\"text-align: right;\">          30</td><td style=\"text-align: right;\">  0.01</td><td>(32, 64, 128)</td><td style=\"text-align: right;\">           0.4</td><td style=\"text-align: right;\">            5</td><td style=\"text-align: right;\">         256</td><td style=\"text-align: right;\">0.001 </td><td>INSTANCE</td><td style=\"text-align: right;\">            1</td><td>(2, 2, 4)</td></tr>\n",
       "</tbody>\n",
       "</table><br><br>"
      ],
      "text/plain": [
       "<IPython.core.display.HTML object>"
      ]
     },
     "metadata": {},
     "output_type": "display_data"
    },
    {
     "data": {
      "text/html": [
       "== Status ==<br>Current time: 2022-04-13 11:57:47 (running for 00:00:30.87)<br>Memory usage on this node: 13.2/29.4 GiB<br>Using AsyncHyperBand: num_stopped=0\n",
       "Bracket: Iter 2.000: None | Iter 1.000: None<br>Resources requested: 1.0/8 CPUs, 1.0/1 GPUs, 0.0/12.16 GiB heap, 0.0/6.08 GiB objects (0.0/1.0 accelerator_type:T4)<br>Result logdir: /home/jupyter/pl-tutorial/runs/ray/test<br>Number of trials: 17/32 (16 PENDING, 1 RUNNING)<br><table>\n",
       "<thead>\n",
       "<tr><th>Trial name                </th><th>status  </th><th>loc              </th><th style=\"text-align: right;\">  alpha</th><th style=\"text-align: right;\">  batch_size</th><th style=\"text-align: right;\">  beta</th><th>channel      </th><th style=\"text-align: right;\">  dropout_rate</th><th style=\"text-align: right;\">  kernel_size</th><th style=\"text-align: right;\">  latent_dim</th><th style=\"text-align: right;\">    lr</th><th>norm    </th><th style=\"text-align: right;\">  num_resnets</th><th>stride   </th></tr>\n",
       "</thead>\n",
       "<tbody>\n",
       "<tr><td>train_vae_tune_dd20d_00000</td><td>RUNNING </td><td>10.128.0.35:10428</td><td style=\"text-align: right;\">      1</td><td style=\"text-align: right;\">          30</td><td style=\"text-align: right;\">  0.01</td><td>(32, 64, 128)</td><td style=\"text-align: right;\">           0.4</td><td style=\"text-align: right;\">            5</td><td style=\"text-align: right;\">         256</td><td style=\"text-align: right;\">0.0001</td><td>INSTANCE</td><td style=\"text-align: right;\">            1</td><td>(2, 2, 4)</td></tr>\n",
       "<tr><td>train_vae_tune_dd20d_00001</td><td>PENDING </td><td>                 </td><td style=\"text-align: right;\">      5</td><td style=\"text-align: right;\">          30</td><td style=\"text-align: right;\">  0.01</td><td>(32, 64, 128)</td><td style=\"text-align: right;\">           0.4</td><td style=\"text-align: right;\">            5</td><td style=\"text-align: right;\">         256</td><td style=\"text-align: right;\">0.0001</td><td>INSTANCE</td><td style=\"text-align: right;\">            1</td><td>(2, 2, 4)</td></tr>\n",
       "<tr><td>train_vae_tune_dd20d_00002</td><td>PENDING </td><td>                 </td><td style=\"text-align: right;\">      1</td><td style=\"text-align: right;\">          30</td><td style=\"text-align: right;\">  0.05</td><td>(32, 64, 128)</td><td style=\"text-align: right;\">           0.4</td><td style=\"text-align: right;\">            5</td><td style=\"text-align: right;\">         256</td><td style=\"text-align: right;\">0.0001</td><td>INSTANCE</td><td style=\"text-align: right;\">            1</td><td>(2, 2, 4)</td></tr>\n",
       "<tr><td>train_vae_tune_dd20d_00003</td><td>PENDING </td><td>                 </td><td style=\"text-align: right;\">      5</td><td style=\"text-align: right;\">          30</td><td style=\"text-align: right;\">  0.05</td><td>(32, 64, 128)</td><td style=\"text-align: right;\">           0.4</td><td style=\"text-align: right;\">            5</td><td style=\"text-align: right;\">         256</td><td style=\"text-align: right;\">0.0001</td><td>INSTANCE</td><td style=\"text-align: right;\">            1</td><td>(2, 2, 4)</td></tr>\n",
       "<tr><td>train_vae_tune_dd20d_00004</td><td>PENDING </td><td>                 </td><td style=\"text-align: right;\">      1</td><td style=\"text-align: right;\">          30</td><td style=\"text-align: right;\">  0.1 </td><td>(32, 64, 128)</td><td style=\"text-align: right;\">           0.4</td><td style=\"text-align: right;\">            5</td><td style=\"text-align: right;\">         256</td><td style=\"text-align: right;\">0.0001</td><td>INSTANCE</td><td style=\"text-align: right;\">            1</td><td>(2, 2, 4)</td></tr>\n",
       "<tr><td>train_vae_tune_dd20d_00005</td><td>PENDING </td><td>                 </td><td style=\"text-align: right;\">      5</td><td style=\"text-align: right;\">          30</td><td style=\"text-align: right;\">  0.1 </td><td>(32, 64, 128)</td><td style=\"text-align: right;\">           0.4</td><td style=\"text-align: right;\">            5</td><td style=\"text-align: right;\">         256</td><td style=\"text-align: right;\">0.0001</td><td>INSTANCE</td><td style=\"text-align: right;\">            1</td><td>(2, 2, 4)</td></tr>\n",
       "<tr><td>train_vae_tune_dd20d_00006</td><td>PENDING </td><td>                 </td><td style=\"text-align: right;\">      1</td><td style=\"text-align: right;\">          30</td><td style=\"text-align: right;\">  0.5 </td><td>(32, 64, 128)</td><td style=\"text-align: right;\">           0.4</td><td style=\"text-align: right;\">            5</td><td style=\"text-align: right;\">         256</td><td style=\"text-align: right;\">0.0001</td><td>INSTANCE</td><td style=\"text-align: right;\">            1</td><td>(2, 2, 4)</td></tr>\n",
       "<tr><td>train_vae_tune_dd20d_00007</td><td>PENDING </td><td>                 </td><td style=\"text-align: right;\">      5</td><td style=\"text-align: right;\">          30</td><td style=\"text-align: right;\">  0.5 </td><td>(32, 64, 128)</td><td style=\"text-align: right;\">           0.4</td><td style=\"text-align: right;\">            5</td><td style=\"text-align: right;\">         256</td><td style=\"text-align: right;\">0.0001</td><td>INSTANCE</td><td style=\"text-align: right;\">            1</td><td>(2, 2, 4)</td></tr>\n",
       "<tr><td>train_vae_tune_dd20d_00008</td><td>PENDING </td><td>                 </td><td style=\"text-align: right;\">      1</td><td style=\"text-align: right;\">          30</td><td style=\"text-align: right;\">  0.01</td><td>(32, 64, 128)</td><td style=\"text-align: right;\">           0.4</td><td style=\"text-align: right;\">            5</td><td style=\"text-align: right;\">         512</td><td style=\"text-align: right;\">0.0001</td><td>INSTANCE</td><td style=\"text-align: right;\">            1</td><td>(2, 2, 4)</td></tr>\n",
       "<tr><td>train_vae_tune_dd20d_00009</td><td>PENDING </td><td>                 </td><td style=\"text-align: right;\">      5</td><td style=\"text-align: right;\">          30</td><td style=\"text-align: right;\">  0.01</td><td>(32, 64, 128)</td><td style=\"text-align: right;\">           0.4</td><td style=\"text-align: right;\">            5</td><td style=\"text-align: right;\">         512</td><td style=\"text-align: right;\">0.0001</td><td>INSTANCE</td><td style=\"text-align: right;\">            1</td><td>(2, 2, 4)</td></tr>\n",
       "<tr><td>train_vae_tune_dd20d_00010</td><td>PENDING </td><td>                 </td><td style=\"text-align: right;\">      1</td><td style=\"text-align: right;\">          30</td><td style=\"text-align: right;\">  0.05</td><td>(32, 64, 128)</td><td style=\"text-align: right;\">           0.4</td><td style=\"text-align: right;\">            5</td><td style=\"text-align: right;\">         512</td><td style=\"text-align: right;\">0.0001</td><td>INSTANCE</td><td style=\"text-align: right;\">            1</td><td>(2, 2, 4)</td></tr>\n",
       "<tr><td>train_vae_tune_dd20d_00011</td><td>PENDING </td><td>                 </td><td style=\"text-align: right;\">      5</td><td style=\"text-align: right;\">          30</td><td style=\"text-align: right;\">  0.05</td><td>(32, 64, 128)</td><td style=\"text-align: right;\">           0.4</td><td style=\"text-align: right;\">            5</td><td style=\"text-align: right;\">         512</td><td style=\"text-align: right;\">0.0001</td><td>INSTANCE</td><td style=\"text-align: right;\">            1</td><td>(2, 2, 4)</td></tr>\n",
       "<tr><td>train_vae_tune_dd20d_00012</td><td>PENDING </td><td>                 </td><td style=\"text-align: right;\">      1</td><td style=\"text-align: right;\">          30</td><td style=\"text-align: right;\">  0.1 </td><td>(32, 64, 128)</td><td style=\"text-align: right;\">           0.4</td><td style=\"text-align: right;\">            5</td><td style=\"text-align: right;\">         512</td><td style=\"text-align: right;\">0.0001</td><td>INSTANCE</td><td style=\"text-align: right;\">            1</td><td>(2, 2, 4)</td></tr>\n",
       "<tr><td>train_vae_tune_dd20d_00013</td><td>PENDING </td><td>                 </td><td style=\"text-align: right;\">      5</td><td style=\"text-align: right;\">          30</td><td style=\"text-align: right;\">  0.1 </td><td>(32, 64, 128)</td><td style=\"text-align: right;\">           0.4</td><td style=\"text-align: right;\">            5</td><td style=\"text-align: right;\">         512</td><td style=\"text-align: right;\">0.0001</td><td>INSTANCE</td><td style=\"text-align: right;\">            1</td><td>(2, 2, 4)</td></tr>\n",
       "<tr><td>train_vae_tune_dd20d_00014</td><td>PENDING </td><td>                 </td><td style=\"text-align: right;\">      1</td><td style=\"text-align: right;\">          30</td><td style=\"text-align: right;\">  0.5 </td><td>(32, 64, 128)</td><td style=\"text-align: right;\">           0.4</td><td style=\"text-align: right;\">            5</td><td style=\"text-align: right;\">         512</td><td style=\"text-align: right;\">0.0001</td><td>INSTANCE</td><td style=\"text-align: right;\">            1</td><td>(2, 2, 4)</td></tr>\n",
       "<tr><td>train_vae_tune_dd20d_00015</td><td>PENDING </td><td>                 </td><td style=\"text-align: right;\">      5</td><td style=\"text-align: right;\">          30</td><td style=\"text-align: right;\">  0.5 </td><td>(32, 64, 128)</td><td style=\"text-align: right;\">           0.4</td><td style=\"text-align: right;\">            5</td><td style=\"text-align: right;\">         512</td><td style=\"text-align: right;\">0.0001</td><td>INSTANCE</td><td style=\"text-align: right;\">            1</td><td>(2, 2, 4)</td></tr>\n",
       "<tr><td>train_vae_tune_dd20d_00016</td><td>PENDING </td><td>                 </td><td style=\"text-align: right;\">      1</td><td style=\"text-align: right;\">          30</td><td style=\"text-align: right;\">  0.01</td><td>(32, 64, 128)</td><td style=\"text-align: right;\">           0.4</td><td style=\"text-align: right;\">            5</td><td style=\"text-align: right;\">         256</td><td style=\"text-align: right;\">0.001 </td><td>INSTANCE</td><td style=\"text-align: right;\">            1</td><td>(2, 2, 4)</td></tr>\n",
       "</tbody>\n",
       "</table><br><br>"
      ],
      "text/plain": [
       "<IPython.core.display.HTML object>"
      ]
     },
     "metadata": {},
     "output_type": "display_data"
    },
    {
     "data": {
      "text/html": [
       "== Status ==<br>Current time: 2022-04-13 11:57:52 (running for 00:00:35.89)<br>Memory usage on this node: 13.2/29.4 GiB<br>Using AsyncHyperBand: num_stopped=0\n",
       "Bracket: Iter 2.000: None | Iter 1.000: None<br>Resources requested: 1.0/8 CPUs, 1.0/1 GPUs, 0.0/12.16 GiB heap, 0.0/6.08 GiB objects (0.0/1.0 accelerator_type:T4)<br>Result logdir: /home/jupyter/pl-tutorial/runs/ray/test<br>Number of trials: 17/32 (16 PENDING, 1 RUNNING)<br><table>\n",
       "<thead>\n",
       "<tr><th>Trial name                </th><th>status  </th><th>loc              </th><th style=\"text-align: right;\">  alpha</th><th style=\"text-align: right;\">  batch_size</th><th style=\"text-align: right;\">  beta</th><th>channel      </th><th style=\"text-align: right;\">  dropout_rate</th><th style=\"text-align: right;\">  kernel_size</th><th style=\"text-align: right;\">  latent_dim</th><th style=\"text-align: right;\">    lr</th><th>norm    </th><th style=\"text-align: right;\">  num_resnets</th><th>stride   </th></tr>\n",
       "</thead>\n",
       "<tbody>\n",
       "<tr><td>train_vae_tune_dd20d_00000</td><td>RUNNING </td><td>10.128.0.35:10428</td><td style=\"text-align: right;\">      1</td><td style=\"text-align: right;\">          30</td><td style=\"text-align: right;\">  0.01</td><td>(32, 64, 128)</td><td style=\"text-align: right;\">           0.4</td><td style=\"text-align: right;\">            5</td><td style=\"text-align: right;\">         256</td><td style=\"text-align: right;\">0.0001</td><td>INSTANCE</td><td style=\"text-align: right;\">            1</td><td>(2, 2, 4)</td></tr>\n",
       "<tr><td>train_vae_tune_dd20d_00001</td><td>PENDING </td><td>                 </td><td style=\"text-align: right;\">      5</td><td style=\"text-align: right;\">          30</td><td style=\"text-align: right;\">  0.01</td><td>(32, 64, 128)</td><td style=\"text-align: right;\">           0.4</td><td style=\"text-align: right;\">            5</td><td style=\"text-align: right;\">         256</td><td style=\"text-align: right;\">0.0001</td><td>INSTANCE</td><td style=\"text-align: right;\">            1</td><td>(2, 2, 4)</td></tr>\n",
       "<tr><td>train_vae_tune_dd20d_00002</td><td>PENDING </td><td>                 </td><td style=\"text-align: right;\">      1</td><td style=\"text-align: right;\">          30</td><td style=\"text-align: right;\">  0.05</td><td>(32, 64, 128)</td><td style=\"text-align: right;\">           0.4</td><td style=\"text-align: right;\">            5</td><td style=\"text-align: right;\">         256</td><td style=\"text-align: right;\">0.0001</td><td>INSTANCE</td><td style=\"text-align: right;\">            1</td><td>(2, 2, 4)</td></tr>\n",
       "<tr><td>train_vae_tune_dd20d_00003</td><td>PENDING </td><td>                 </td><td style=\"text-align: right;\">      5</td><td style=\"text-align: right;\">          30</td><td style=\"text-align: right;\">  0.05</td><td>(32, 64, 128)</td><td style=\"text-align: right;\">           0.4</td><td style=\"text-align: right;\">            5</td><td style=\"text-align: right;\">         256</td><td style=\"text-align: right;\">0.0001</td><td>INSTANCE</td><td style=\"text-align: right;\">            1</td><td>(2, 2, 4)</td></tr>\n",
       "<tr><td>train_vae_tune_dd20d_00004</td><td>PENDING </td><td>                 </td><td style=\"text-align: right;\">      1</td><td style=\"text-align: right;\">          30</td><td style=\"text-align: right;\">  0.1 </td><td>(32, 64, 128)</td><td style=\"text-align: right;\">           0.4</td><td style=\"text-align: right;\">            5</td><td style=\"text-align: right;\">         256</td><td style=\"text-align: right;\">0.0001</td><td>INSTANCE</td><td style=\"text-align: right;\">            1</td><td>(2, 2, 4)</td></tr>\n",
       "<tr><td>train_vae_tune_dd20d_00005</td><td>PENDING </td><td>                 </td><td style=\"text-align: right;\">      5</td><td style=\"text-align: right;\">          30</td><td style=\"text-align: right;\">  0.1 </td><td>(32, 64, 128)</td><td style=\"text-align: right;\">           0.4</td><td style=\"text-align: right;\">            5</td><td style=\"text-align: right;\">         256</td><td style=\"text-align: right;\">0.0001</td><td>INSTANCE</td><td style=\"text-align: right;\">            1</td><td>(2, 2, 4)</td></tr>\n",
       "<tr><td>train_vae_tune_dd20d_00006</td><td>PENDING </td><td>                 </td><td style=\"text-align: right;\">      1</td><td style=\"text-align: right;\">          30</td><td style=\"text-align: right;\">  0.5 </td><td>(32, 64, 128)</td><td style=\"text-align: right;\">           0.4</td><td style=\"text-align: right;\">            5</td><td style=\"text-align: right;\">         256</td><td style=\"text-align: right;\">0.0001</td><td>INSTANCE</td><td style=\"text-align: right;\">            1</td><td>(2, 2, 4)</td></tr>\n",
       "<tr><td>train_vae_tune_dd20d_00007</td><td>PENDING </td><td>                 </td><td style=\"text-align: right;\">      5</td><td style=\"text-align: right;\">          30</td><td style=\"text-align: right;\">  0.5 </td><td>(32, 64, 128)</td><td style=\"text-align: right;\">           0.4</td><td style=\"text-align: right;\">            5</td><td style=\"text-align: right;\">         256</td><td style=\"text-align: right;\">0.0001</td><td>INSTANCE</td><td style=\"text-align: right;\">            1</td><td>(2, 2, 4)</td></tr>\n",
       "<tr><td>train_vae_tune_dd20d_00008</td><td>PENDING </td><td>                 </td><td style=\"text-align: right;\">      1</td><td style=\"text-align: right;\">          30</td><td style=\"text-align: right;\">  0.01</td><td>(32, 64, 128)</td><td style=\"text-align: right;\">           0.4</td><td style=\"text-align: right;\">            5</td><td style=\"text-align: right;\">         512</td><td style=\"text-align: right;\">0.0001</td><td>INSTANCE</td><td style=\"text-align: right;\">            1</td><td>(2, 2, 4)</td></tr>\n",
       "<tr><td>train_vae_tune_dd20d_00009</td><td>PENDING </td><td>                 </td><td style=\"text-align: right;\">      5</td><td style=\"text-align: right;\">          30</td><td style=\"text-align: right;\">  0.01</td><td>(32, 64, 128)</td><td style=\"text-align: right;\">           0.4</td><td style=\"text-align: right;\">            5</td><td style=\"text-align: right;\">         512</td><td style=\"text-align: right;\">0.0001</td><td>INSTANCE</td><td style=\"text-align: right;\">            1</td><td>(2, 2, 4)</td></tr>\n",
       "<tr><td>train_vae_tune_dd20d_00010</td><td>PENDING </td><td>                 </td><td style=\"text-align: right;\">      1</td><td style=\"text-align: right;\">          30</td><td style=\"text-align: right;\">  0.05</td><td>(32, 64, 128)</td><td style=\"text-align: right;\">           0.4</td><td style=\"text-align: right;\">            5</td><td style=\"text-align: right;\">         512</td><td style=\"text-align: right;\">0.0001</td><td>INSTANCE</td><td style=\"text-align: right;\">            1</td><td>(2, 2, 4)</td></tr>\n",
       "<tr><td>train_vae_tune_dd20d_00011</td><td>PENDING </td><td>                 </td><td style=\"text-align: right;\">      5</td><td style=\"text-align: right;\">          30</td><td style=\"text-align: right;\">  0.05</td><td>(32, 64, 128)</td><td style=\"text-align: right;\">           0.4</td><td style=\"text-align: right;\">            5</td><td style=\"text-align: right;\">         512</td><td style=\"text-align: right;\">0.0001</td><td>INSTANCE</td><td style=\"text-align: right;\">            1</td><td>(2, 2, 4)</td></tr>\n",
       "<tr><td>train_vae_tune_dd20d_00012</td><td>PENDING </td><td>                 </td><td style=\"text-align: right;\">      1</td><td style=\"text-align: right;\">          30</td><td style=\"text-align: right;\">  0.1 </td><td>(32, 64, 128)</td><td style=\"text-align: right;\">           0.4</td><td style=\"text-align: right;\">            5</td><td style=\"text-align: right;\">         512</td><td style=\"text-align: right;\">0.0001</td><td>INSTANCE</td><td style=\"text-align: right;\">            1</td><td>(2, 2, 4)</td></tr>\n",
       "<tr><td>train_vae_tune_dd20d_00013</td><td>PENDING </td><td>                 </td><td style=\"text-align: right;\">      5</td><td style=\"text-align: right;\">          30</td><td style=\"text-align: right;\">  0.1 </td><td>(32, 64, 128)</td><td style=\"text-align: right;\">           0.4</td><td style=\"text-align: right;\">            5</td><td style=\"text-align: right;\">         512</td><td style=\"text-align: right;\">0.0001</td><td>INSTANCE</td><td style=\"text-align: right;\">            1</td><td>(2, 2, 4)</td></tr>\n",
       "<tr><td>train_vae_tune_dd20d_00014</td><td>PENDING </td><td>                 </td><td style=\"text-align: right;\">      1</td><td style=\"text-align: right;\">          30</td><td style=\"text-align: right;\">  0.5 </td><td>(32, 64, 128)</td><td style=\"text-align: right;\">           0.4</td><td style=\"text-align: right;\">            5</td><td style=\"text-align: right;\">         512</td><td style=\"text-align: right;\">0.0001</td><td>INSTANCE</td><td style=\"text-align: right;\">            1</td><td>(2, 2, 4)</td></tr>\n",
       "<tr><td>train_vae_tune_dd20d_00015</td><td>PENDING </td><td>                 </td><td style=\"text-align: right;\">      5</td><td style=\"text-align: right;\">          30</td><td style=\"text-align: right;\">  0.5 </td><td>(32, 64, 128)</td><td style=\"text-align: right;\">           0.4</td><td style=\"text-align: right;\">            5</td><td style=\"text-align: right;\">         512</td><td style=\"text-align: right;\">0.0001</td><td>INSTANCE</td><td style=\"text-align: right;\">            1</td><td>(2, 2, 4)</td></tr>\n",
       "<tr><td>train_vae_tune_dd20d_00016</td><td>PENDING </td><td>                 </td><td style=\"text-align: right;\">      1</td><td style=\"text-align: right;\">          30</td><td style=\"text-align: right;\">  0.01</td><td>(32, 64, 128)</td><td style=\"text-align: right;\">           0.4</td><td style=\"text-align: right;\">            5</td><td style=\"text-align: right;\">         256</td><td style=\"text-align: right;\">0.001 </td><td>INSTANCE</td><td style=\"text-align: right;\">            1</td><td>(2, 2, 4)</td></tr>\n",
       "</tbody>\n",
       "</table><br><br>"
      ],
      "text/plain": [
       "<IPython.core.display.HTML object>"
      ]
     },
     "metadata": {},
     "output_type": "display_data"
    },
    {
     "data": {
      "text/html": [
       "== Status ==<br>Current time: 2022-04-13 11:57:57 (running for 00:00:40.91)<br>Memory usage on this node: 13.2/29.4 GiB<br>Using AsyncHyperBand: num_stopped=0\n",
       "Bracket: Iter 2.000: None | Iter 1.000: None<br>Resources requested: 1.0/8 CPUs, 1.0/1 GPUs, 0.0/12.16 GiB heap, 0.0/6.08 GiB objects (0.0/1.0 accelerator_type:T4)<br>Result logdir: /home/jupyter/pl-tutorial/runs/ray/test<br>Number of trials: 17/32 (16 PENDING, 1 RUNNING)<br><table>\n",
       "<thead>\n",
       "<tr><th>Trial name                </th><th>status  </th><th>loc              </th><th style=\"text-align: right;\">  alpha</th><th style=\"text-align: right;\">  batch_size</th><th style=\"text-align: right;\">  beta</th><th>channel      </th><th style=\"text-align: right;\">  dropout_rate</th><th style=\"text-align: right;\">  kernel_size</th><th style=\"text-align: right;\">  latent_dim</th><th style=\"text-align: right;\">    lr</th><th>norm    </th><th style=\"text-align: right;\">  num_resnets</th><th>stride   </th></tr>\n",
       "</thead>\n",
       "<tbody>\n",
       "<tr><td>train_vae_tune_dd20d_00000</td><td>RUNNING </td><td>10.128.0.35:10428</td><td style=\"text-align: right;\">      1</td><td style=\"text-align: right;\">          30</td><td style=\"text-align: right;\">  0.01</td><td>(32, 64, 128)</td><td style=\"text-align: right;\">           0.4</td><td style=\"text-align: right;\">            5</td><td style=\"text-align: right;\">         256</td><td style=\"text-align: right;\">0.0001</td><td>INSTANCE</td><td style=\"text-align: right;\">            1</td><td>(2, 2, 4)</td></tr>\n",
       "<tr><td>train_vae_tune_dd20d_00001</td><td>PENDING </td><td>                 </td><td style=\"text-align: right;\">      5</td><td style=\"text-align: right;\">          30</td><td style=\"text-align: right;\">  0.01</td><td>(32, 64, 128)</td><td style=\"text-align: right;\">           0.4</td><td style=\"text-align: right;\">            5</td><td style=\"text-align: right;\">         256</td><td style=\"text-align: right;\">0.0001</td><td>INSTANCE</td><td style=\"text-align: right;\">            1</td><td>(2, 2, 4)</td></tr>\n",
       "<tr><td>train_vae_tune_dd20d_00002</td><td>PENDING </td><td>                 </td><td style=\"text-align: right;\">      1</td><td style=\"text-align: right;\">          30</td><td style=\"text-align: right;\">  0.05</td><td>(32, 64, 128)</td><td style=\"text-align: right;\">           0.4</td><td style=\"text-align: right;\">            5</td><td style=\"text-align: right;\">         256</td><td style=\"text-align: right;\">0.0001</td><td>INSTANCE</td><td style=\"text-align: right;\">            1</td><td>(2, 2, 4)</td></tr>\n",
       "<tr><td>train_vae_tune_dd20d_00003</td><td>PENDING </td><td>                 </td><td style=\"text-align: right;\">      5</td><td style=\"text-align: right;\">          30</td><td style=\"text-align: right;\">  0.05</td><td>(32, 64, 128)</td><td style=\"text-align: right;\">           0.4</td><td style=\"text-align: right;\">            5</td><td style=\"text-align: right;\">         256</td><td style=\"text-align: right;\">0.0001</td><td>INSTANCE</td><td style=\"text-align: right;\">            1</td><td>(2, 2, 4)</td></tr>\n",
       "<tr><td>train_vae_tune_dd20d_00004</td><td>PENDING </td><td>                 </td><td style=\"text-align: right;\">      1</td><td style=\"text-align: right;\">          30</td><td style=\"text-align: right;\">  0.1 </td><td>(32, 64, 128)</td><td style=\"text-align: right;\">           0.4</td><td style=\"text-align: right;\">            5</td><td style=\"text-align: right;\">         256</td><td style=\"text-align: right;\">0.0001</td><td>INSTANCE</td><td style=\"text-align: right;\">            1</td><td>(2, 2, 4)</td></tr>\n",
       "<tr><td>train_vae_tune_dd20d_00005</td><td>PENDING </td><td>                 </td><td style=\"text-align: right;\">      5</td><td style=\"text-align: right;\">          30</td><td style=\"text-align: right;\">  0.1 </td><td>(32, 64, 128)</td><td style=\"text-align: right;\">           0.4</td><td style=\"text-align: right;\">            5</td><td style=\"text-align: right;\">         256</td><td style=\"text-align: right;\">0.0001</td><td>INSTANCE</td><td style=\"text-align: right;\">            1</td><td>(2, 2, 4)</td></tr>\n",
       "<tr><td>train_vae_tune_dd20d_00006</td><td>PENDING </td><td>                 </td><td style=\"text-align: right;\">      1</td><td style=\"text-align: right;\">          30</td><td style=\"text-align: right;\">  0.5 </td><td>(32, 64, 128)</td><td style=\"text-align: right;\">           0.4</td><td style=\"text-align: right;\">            5</td><td style=\"text-align: right;\">         256</td><td style=\"text-align: right;\">0.0001</td><td>INSTANCE</td><td style=\"text-align: right;\">            1</td><td>(2, 2, 4)</td></tr>\n",
       "<tr><td>train_vae_tune_dd20d_00007</td><td>PENDING </td><td>                 </td><td style=\"text-align: right;\">      5</td><td style=\"text-align: right;\">          30</td><td style=\"text-align: right;\">  0.5 </td><td>(32, 64, 128)</td><td style=\"text-align: right;\">           0.4</td><td style=\"text-align: right;\">            5</td><td style=\"text-align: right;\">         256</td><td style=\"text-align: right;\">0.0001</td><td>INSTANCE</td><td style=\"text-align: right;\">            1</td><td>(2, 2, 4)</td></tr>\n",
       "<tr><td>train_vae_tune_dd20d_00008</td><td>PENDING </td><td>                 </td><td style=\"text-align: right;\">      1</td><td style=\"text-align: right;\">          30</td><td style=\"text-align: right;\">  0.01</td><td>(32, 64, 128)</td><td style=\"text-align: right;\">           0.4</td><td style=\"text-align: right;\">            5</td><td style=\"text-align: right;\">         512</td><td style=\"text-align: right;\">0.0001</td><td>INSTANCE</td><td style=\"text-align: right;\">            1</td><td>(2, 2, 4)</td></tr>\n",
       "<tr><td>train_vae_tune_dd20d_00009</td><td>PENDING </td><td>                 </td><td style=\"text-align: right;\">      5</td><td style=\"text-align: right;\">          30</td><td style=\"text-align: right;\">  0.01</td><td>(32, 64, 128)</td><td style=\"text-align: right;\">           0.4</td><td style=\"text-align: right;\">            5</td><td style=\"text-align: right;\">         512</td><td style=\"text-align: right;\">0.0001</td><td>INSTANCE</td><td style=\"text-align: right;\">            1</td><td>(2, 2, 4)</td></tr>\n",
       "<tr><td>train_vae_tune_dd20d_00010</td><td>PENDING </td><td>                 </td><td style=\"text-align: right;\">      1</td><td style=\"text-align: right;\">          30</td><td style=\"text-align: right;\">  0.05</td><td>(32, 64, 128)</td><td style=\"text-align: right;\">           0.4</td><td style=\"text-align: right;\">            5</td><td style=\"text-align: right;\">         512</td><td style=\"text-align: right;\">0.0001</td><td>INSTANCE</td><td style=\"text-align: right;\">            1</td><td>(2, 2, 4)</td></tr>\n",
       "<tr><td>train_vae_tune_dd20d_00011</td><td>PENDING </td><td>                 </td><td style=\"text-align: right;\">      5</td><td style=\"text-align: right;\">          30</td><td style=\"text-align: right;\">  0.05</td><td>(32, 64, 128)</td><td style=\"text-align: right;\">           0.4</td><td style=\"text-align: right;\">            5</td><td style=\"text-align: right;\">         512</td><td style=\"text-align: right;\">0.0001</td><td>INSTANCE</td><td style=\"text-align: right;\">            1</td><td>(2, 2, 4)</td></tr>\n",
       "<tr><td>train_vae_tune_dd20d_00012</td><td>PENDING </td><td>                 </td><td style=\"text-align: right;\">      1</td><td style=\"text-align: right;\">          30</td><td style=\"text-align: right;\">  0.1 </td><td>(32, 64, 128)</td><td style=\"text-align: right;\">           0.4</td><td style=\"text-align: right;\">            5</td><td style=\"text-align: right;\">         512</td><td style=\"text-align: right;\">0.0001</td><td>INSTANCE</td><td style=\"text-align: right;\">            1</td><td>(2, 2, 4)</td></tr>\n",
       "<tr><td>train_vae_tune_dd20d_00013</td><td>PENDING </td><td>                 </td><td style=\"text-align: right;\">      5</td><td style=\"text-align: right;\">          30</td><td style=\"text-align: right;\">  0.1 </td><td>(32, 64, 128)</td><td style=\"text-align: right;\">           0.4</td><td style=\"text-align: right;\">            5</td><td style=\"text-align: right;\">         512</td><td style=\"text-align: right;\">0.0001</td><td>INSTANCE</td><td style=\"text-align: right;\">            1</td><td>(2, 2, 4)</td></tr>\n",
       "<tr><td>train_vae_tune_dd20d_00014</td><td>PENDING </td><td>                 </td><td style=\"text-align: right;\">      1</td><td style=\"text-align: right;\">          30</td><td style=\"text-align: right;\">  0.5 </td><td>(32, 64, 128)</td><td style=\"text-align: right;\">           0.4</td><td style=\"text-align: right;\">            5</td><td style=\"text-align: right;\">         512</td><td style=\"text-align: right;\">0.0001</td><td>INSTANCE</td><td style=\"text-align: right;\">            1</td><td>(2, 2, 4)</td></tr>\n",
       "<tr><td>train_vae_tune_dd20d_00015</td><td>PENDING </td><td>                 </td><td style=\"text-align: right;\">      5</td><td style=\"text-align: right;\">          30</td><td style=\"text-align: right;\">  0.5 </td><td>(32, 64, 128)</td><td style=\"text-align: right;\">           0.4</td><td style=\"text-align: right;\">            5</td><td style=\"text-align: right;\">         512</td><td style=\"text-align: right;\">0.0001</td><td>INSTANCE</td><td style=\"text-align: right;\">            1</td><td>(2, 2, 4)</td></tr>\n",
       "<tr><td>train_vae_tune_dd20d_00016</td><td>PENDING </td><td>                 </td><td style=\"text-align: right;\">      1</td><td style=\"text-align: right;\">          30</td><td style=\"text-align: right;\">  0.01</td><td>(32, 64, 128)</td><td style=\"text-align: right;\">           0.4</td><td style=\"text-align: right;\">            5</td><td style=\"text-align: right;\">         256</td><td style=\"text-align: right;\">0.001 </td><td>INSTANCE</td><td style=\"text-align: right;\">            1</td><td>(2, 2, 4)</td></tr>\n",
       "</tbody>\n",
       "</table><br><br>"
      ],
      "text/plain": [
       "<IPython.core.display.HTML object>"
      ]
     },
     "metadata": {},
     "output_type": "display_data"
    },
    {
     "name": "stdout",
     "output_type": "stream",
     "text": [
      "Result for train_vae_tune_dd20d_00000:\n",
      "  date: 2022-04-13_11-57-57\n",
      "  dice: 0.7010906934738159\n",
      "  done: false\n",
      "  experiment_id: 603cf124e44a4f5998b0c2161a9ef29f\n",
      "  hostname: ayon-playground\n",
      "  iterations_since_restore: 1\n",
      "  node_ip: 10.128.0.35\n",
      "  pid: 10428\n",
      "  time_since_restore: 39.42370557785034\n",
      "  time_this_iter_s: 39.42370557785034\n",
      "  time_total_s: 39.42370557785034\n",
      "  timestamp: 1649851077\n",
      "  timesteps_since_restore: 0\n",
      "  training_iteration: 1\n",
      "  trial_id: dd20d_00000\n",
      "  \n"
     ]
    },
    {
     "data": {
      "text/html": [
       "== Status ==<br>Current time: 2022-04-13 11:58:02 (running for 00:00:46.13)<br>Memory usage on this node: 13.2/29.4 GiB<br>Using AsyncHyperBand: num_stopped=0\n",
       "Bracket: Iter 2.000: None | Iter 1.000: 0.7010906934738159<br>Resources requested: 1.0/8 CPUs, 1.0/1 GPUs, 0.0/12.16 GiB heap, 0.0/6.08 GiB objects (0.0/1.0 accelerator_type:T4)<br>Current best trial: dd20d_00000 with dice=0.7010906934738159 and parameters={'lr': 0.0001, 'latent_dim': 256, 'kernel_size': 5, 'dropout_rate': 0.4, 'alpha': 1, 'beta': 0.01, 'norm': 'INSTANCE', 'channel': (32, 64, 128), 'stride': (2, 2, 4), 'num_resnets': 1, 'batch_size': 30}<br>Result logdir: /home/jupyter/pl-tutorial/runs/ray/test<br>Number of trials: 17/32 (16 PENDING, 1 RUNNING)<br><table>\n",
       "<thead>\n",
       "<tr><th>Trial name                </th><th>status  </th><th>loc              </th><th style=\"text-align: right;\">  alpha</th><th style=\"text-align: right;\">  batch_size</th><th style=\"text-align: right;\">  beta</th><th>channel      </th><th style=\"text-align: right;\">  dropout_rate</th><th style=\"text-align: right;\">  kernel_size</th><th style=\"text-align: right;\">  latent_dim</th><th style=\"text-align: right;\">    lr</th><th>norm    </th><th style=\"text-align: right;\">  num_resnets</th><th>stride   </th><th style=\"text-align: right;\">  iter</th><th style=\"text-align: right;\">  total time (s)</th><th style=\"text-align: right;\">    dice</th></tr>\n",
       "</thead>\n",
       "<tbody>\n",
       "<tr><td>train_vae_tune_dd20d_00000</td><td>RUNNING </td><td>10.128.0.35:10428</td><td style=\"text-align: right;\">      1</td><td style=\"text-align: right;\">          30</td><td style=\"text-align: right;\">  0.01</td><td>(32, 64, 128)</td><td style=\"text-align: right;\">           0.4</td><td style=\"text-align: right;\">            5</td><td style=\"text-align: right;\">         256</td><td style=\"text-align: right;\">0.0001</td><td>INSTANCE</td><td style=\"text-align: right;\">            1</td><td>(2, 2, 4)</td><td style=\"text-align: right;\">     1</td><td style=\"text-align: right;\">         39.4237</td><td style=\"text-align: right;\">0.701091</td></tr>\n",
       "<tr><td>train_vae_tune_dd20d_00001</td><td>PENDING </td><td>                 </td><td style=\"text-align: right;\">      5</td><td style=\"text-align: right;\">          30</td><td style=\"text-align: right;\">  0.01</td><td>(32, 64, 128)</td><td style=\"text-align: right;\">           0.4</td><td style=\"text-align: right;\">            5</td><td style=\"text-align: right;\">         256</td><td style=\"text-align: right;\">0.0001</td><td>INSTANCE</td><td style=\"text-align: right;\">            1</td><td>(2, 2, 4)</td><td style=\"text-align: right;\">      </td><td style=\"text-align: right;\">                </td><td style=\"text-align: right;\">        </td></tr>\n",
       "<tr><td>train_vae_tune_dd20d_00002</td><td>PENDING </td><td>                 </td><td style=\"text-align: right;\">      1</td><td style=\"text-align: right;\">          30</td><td style=\"text-align: right;\">  0.05</td><td>(32, 64, 128)</td><td style=\"text-align: right;\">           0.4</td><td style=\"text-align: right;\">            5</td><td style=\"text-align: right;\">         256</td><td style=\"text-align: right;\">0.0001</td><td>INSTANCE</td><td style=\"text-align: right;\">            1</td><td>(2, 2, 4)</td><td style=\"text-align: right;\">      </td><td style=\"text-align: right;\">                </td><td style=\"text-align: right;\">        </td></tr>\n",
       "<tr><td>train_vae_tune_dd20d_00003</td><td>PENDING </td><td>                 </td><td style=\"text-align: right;\">      5</td><td style=\"text-align: right;\">          30</td><td style=\"text-align: right;\">  0.05</td><td>(32, 64, 128)</td><td style=\"text-align: right;\">           0.4</td><td style=\"text-align: right;\">            5</td><td style=\"text-align: right;\">         256</td><td style=\"text-align: right;\">0.0001</td><td>INSTANCE</td><td style=\"text-align: right;\">            1</td><td>(2, 2, 4)</td><td style=\"text-align: right;\">      </td><td style=\"text-align: right;\">                </td><td style=\"text-align: right;\">        </td></tr>\n",
       "<tr><td>train_vae_tune_dd20d_00004</td><td>PENDING </td><td>                 </td><td style=\"text-align: right;\">      1</td><td style=\"text-align: right;\">          30</td><td style=\"text-align: right;\">  0.1 </td><td>(32, 64, 128)</td><td style=\"text-align: right;\">           0.4</td><td style=\"text-align: right;\">            5</td><td style=\"text-align: right;\">         256</td><td style=\"text-align: right;\">0.0001</td><td>INSTANCE</td><td style=\"text-align: right;\">            1</td><td>(2, 2, 4)</td><td style=\"text-align: right;\">      </td><td style=\"text-align: right;\">                </td><td style=\"text-align: right;\">        </td></tr>\n",
       "<tr><td>train_vae_tune_dd20d_00005</td><td>PENDING </td><td>                 </td><td style=\"text-align: right;\">      5</td><td style=\"text-align: right;\">          30</td><td style=\"text-align: right;\">  0.1 </td><td>(32, 64, 128)</td><td style=\"text-align: right;\">           0.4</td><td style=\"text-align: right;\">            5</td><td style=\"text-align: right;\">         256</td><td style=\"text-align: right;\">0.0001</td><td>INSTANCE</td><td style=\"text-align: right;\">            1</td><td>(2, 2, 4)</td><td style=\"text-align: right;\">      </td><td style=\"text-align: right;\">                </td><td style=\"text-align: right;\">        </td></tr>\n",
       "<tr><td>train_vae_tune_dd20d_00006</td><td>PENDING </td><td>                 </td><td style=\"text-align: right;\">      1</td><td style=\"text-align: right;\">          30</td><td style=\"text-align: right;\">  0.5 </td><td>(32, 64, 128)</td><td style=\"text-align: right;\">           0.4</td><td style=\"text-align: right;\">            5</td><td style=\"text-align: right;\">         256</td><td style=\"text-align: right;\">0.0001</td><td>INSTANCE</td><td style=\"text-align: right;\">            1</td><td>(2, 2, 4)</td><td style=\"text-align: right;\">      </td><td style=\"text-align: right;\">                </td><td style=\"text-align: right;\">        </td></tr>\n",
       "<tr><td>train_vae_tune_dd20d_00007</td><td>PENDING </td><td>                 </td><td style=\"text-align: right;\">      5</td><td style=\"text-align: right;\">          30</td><td style=\"text-align: right;\">  0.5 </td><td>(32, 64, 128)</td><td style=\"text-align: right;\">           0.4</td><td style=\"text-align: right;\">            5</td><td style=\"text-align: right;\">         256</td><td style=\"text-align: right;\">0.0001</td><td>INSTANCE</td><td style=\"text-align: right;\">            1</td><td>(2, 2, 4)</td><td style=\"text-align: right;\">      </td><td style=\"text-align: right;\">                </td><td style=\"text-align: right;\">        </td></tr>\n",
       "<tr><td>train_vae_tune_dd20d_00008</td><td>PENDING </td><td>                 </td><td style=\"text-align: right;\">      1</td><td style=\"text-align: right;\">          30</td><td style=\"text-align: right;\">  0.01</td><td>(32, 64, 128)</td><td style=\"text-align: right;\">           0.4</td><td style=\"text-align: right;\">            5</td><td style=\"text-align: right;\">         512</td><td style=\"text-align: right;\">0.0001</td><td>INSTANCE</td><td style=\"text-align: right;\">            1</td><td>(2, 2, 4)</td><td style=\"text-align: right;\">      </td><td style=\"text-align: right;\">                </td><td style=\"text-align: right;\">        </td></tr>\n",
       "<tr><td>train_vae_tune_dd20d_00009</td><td>PENDING </td><td>                 </td><td style=\"text-align: right;\">      5</td><td style=\"text-align: right;\">          30</td><td style=\"text-align: right;\">  0.01</td><td>(32, 64, 128)</td><td style=\"text-align: right;\">           0.4</td><td style=\"text-align: right;\">            5</td><td style=\"text-align: right;\">         512</td><td style=\"text-align: right;\">0.0001</td><td>INSTANCE</td><td style=\"text-align: right;\">            1</td><td>(2, 2, 4)</td><td style=\"text-align: right;\">      </td><td style=\"text-align: right;\">                </td><td style=\"text-align: right;\">        </td></tr>\n",
       "<tr><td>train_vae_tune_dd20d_00010</td><td>PENDING </td><td>                 </td><td style=\"text-align: right;\">      1</td><td style=\"text-align: right;\">          30</td><td style=\"text-align: right;\">  0.05</td><td>(32, 64, 128)</td><td style=\"text-align: right;\">           0.4</td><td style=\"text-align: right;\">            5</td><td style=\"text-align: right;\">         512</td><td style=\"text-align: right;\">0.0001</td><td>INSTANCE</td><td style=\"text-align: right;\">            1</td><td>(2, 2, 4)</td><td style=\"text-align: right;\">      </td><td style=\"text-align: right;\">                </td><td style=\"text-align: right;\">        </td></tr>\n",
       "<tr><td>train_vae_tune_dd20d_00011</td><td>PENDING </td><td>                 </td><td style=\"text-align: right;\">      5</td><td style=\"text-align: right;\">          30</td><td style=\"text-align: right;\">  0.05</td><td>(32, 64, 128)</td><td style=\"text-align: right;\">           0.4</td><td style=\"text-align: right;\">            5</td><td style=\"text-align: right;\">         512</td><td style=\"text-align: right;\">0.0001</td><td>INSTANCE</td><td style=\"text-align: right;\">            1</td><td>(2, 2, 4)</td><td style=\"text-align: right;\">      </td><td style=\"text-align: right;\">                </td><td style=\"text-align: right;\">        </td></tr>\n",
       "<tr><td>train_vae_tune_dd20d_00012</td><td>PENDING </td><td>                 </td><td style=\"text-align: right;\">      1</td><td style=\"text-align: right;\">          30</td><td style=\"text-align: right;\">  0.1 </td><td>(32, 64, 128)</td><td style=\"text-align: right;\">           0.4</td><td style=\"text-align: right;\">            5</td><td style=\"text-align: right;\">         512</td><td style=\"text-align: right;\">0.0001</td><td>INSTANCE</td><td style=\"text-align: right;\">            1</td><td>(2, 2, 4)</td><td style=\"text-align: right;\">      </td><td style=\"text-align: right;\">                </td><td style=\"text-align: right;\">        </td></tr>\n",
       "<tr><td>train_vae_tune_dd20d_00013</td><td>PENDING </td><td>                 </td><td style=\"text-align: right;\">      5</td><td style=\"text-align: right;\">          30</td><td style=\"text-align: right;\">  0.1 </td><td>(32, 64, 128)</td><td style=\"text-align: right;\">           0.4</td><td style=\"text-align: right;\">            5</td><td style=\"text-align: right;\">         512</td><td style=\"text-align: right;\">0.0001</td><td>INSTANCE</td><td style=\"text-align: right;\">            1</td><td>(2, 2, 4)</td><td style=\"text-align: right;\">      </td><td style=\"text-align: right;\">                </td><td style=\"text-align: right;\">        </td></tr>\n",
       "<tr><td>train_vae_tune_dd20d_00014</td><td>PENDING </td><td>                 </td><td style=\"text-align: right;\">      1</td><td style=\"text-align: right;\">          30</td><td style=\"text-align: right;\">  0.5 </td><td>(32, 64, 128)</td><td style=\"text-align: right;\">           0.4</td><td style=\"text-align: right;\">            5</td><td style=\"text-align: right;\">         512</td><td style=\"text-align: right;\">0.0001</td><td>INSTANCE</td><td style=\"text-align: right;\">            1</td><td>(2, 2, 4)</td><td style=\"text-align: right;\">      </td><td style=\"text-align: right;\">                </td><td style=\"text-align: right;\">        </td></tr>\n",
       "<tr><td>train_vae_tune_dd20d_00015</td><td>PENDING </td><td>                 </td><td style=\"text-align: right;\">      5</td><td style=\"text-align: right;\">          30</td><td style=\"text-align: right;\">  0.5 </td><td>(32, 64, 128)</td><td style=\"text-align: right;\">           0.4</td><td style=\"text-align: right;\">            5</td><td style=\"text-align: right;\">         512</td><td style=\"text-align: right;\">0.0001</td><td>INSTANCE</td><td style=\"text-align: right;\">            1</td><td>(2, 2, 4)</td><td style=\"text-align: right;\">      </td><td style=\"text-align: right;\">                </td><td style=\"text-align: right;\">        </td></tr>\n",
       "<tr><td>train_vae_tune_dd20d_00016</td><td>PENDING </td><td>                 </td><td style=\"text-align: right;\">      1</td><td style=\"text-align: right;\">          30</td><td style=\"text-align: right;\">  0.01</td><td>(32, 64, 128)</td><td style=\"text-align: right;\">           0.4</td><td style=\"text-align: right;\">            5</td><td style=\"text-align: right;\">         256</td><td style=\"text-align: right;\">0.001 </td><td>INSTANCE</td><td style=\"text-align: right;\">            1</td><td>(2, 2, 4)</td><td style=\"text-align: right;\">      </td><td style=\"text-align: right;\">                </td><td style=\"text-align: right;\">        </td></tr>\n",
       "</tbody>\n",
       "</table><br><br>"
      ],
      "text/plain": [
       "<IPython.core.display.HTML object>"
      ]
     },
     "metadata": {},
     "output_type": "display_data"
    },
    {
     "data": {
      "text/html": [
       "== Status ==<br>Current time: 2022-04-13 11:58:07 (running for 00:00:51.15)<br>Memory usage on this node: 13.2/29.4 GiB<br>Using AsyncHyperBand: num_stopped=0\n",
       "Bracket: Iter 2.000: None | Iter 1.000: 0.7010906934738159<br>Resources requested: 1.0/8 CPUs, 1.0/1 GPUs, 0.0/12.16 GiB heap, 0.0/6.08 GiB objects (0.0/1.0 accelerator_type:T4)<br>Current best trial: dd20d_00000 with dice=0.7010906934738159 and parameters={'lr': 0.0001, 'latent_dim': 256, 'kernel_size': 5, 'dropout_rate': 0.4, 'alpha': 1, 'beta': 0.01, 'norm': 'INSTANCE', 'channel': (32, 64, 128), 'stride': (2, 2, 4), 'num_resnets': 1, 'batch_size': 30}<br>Result logdir: /home/jupyter/pl-tutorial/runs/ray/test<br>Number of trials: 17/32 (16 PENDING, 1 RUNNING)<br><table>\n",
       "<thead>\n",
       "<tr><th>Trial name                </th><th>status  </th><th>loc              </th><th style=\"text-align: right;\">  alpha</th><th style=\"text-align: right;\">  batch_size</th><th style=\"text-align: right;\">  beta</th><th>channel      </th><th style=\"text-align: right;\">  dropout_rate</th><th style=\"text-align: right;\">  kernel_size</th><th style=\"text-align: right;\">  latent_dim</th><th style=\"text-align: right;\">    lr</th><th>norm    </th><th style=\"text-align: right;\">  num_resnets</th><th>stride   </th><th style=\"text-align: right;\">  iter</th><th style=\"text-align: right;\">  total time (s)</th><th style=\"text-align: right;\">    dice</th></tr>\n",
       "</thead>\n",
       "<tbody>\n",
       "<tr><td>train_vae_tune_dd20d_00000</td><td>RUNNING </td><td>10.128.0.35:10428</td><td style=\"text-align: right;\">      1</td><td style=\"text-align: right;\">          30</td><td style=\"text-align: right;\">  0.01</td><td>(32, 64, 128)</td><td style=\"text-align: right;\">           0.4</td><td style=\"text-align: right;\">            5</td><td style=\"text-align: right;\">         256</td><td style=\"text-align: right;\">0.0001</td><td>INSTANCE</td><td style=\"text-align: right;\">            1</td><td>(2, 2, 4)</td><td style=\"text-align: right;\">     1</td><td style=\"text-align: right;\">         39.4237</td><td style=\"text-align: right;\">0.701091</td></tr>\n",
       "<tr><td>train_vae_tune_dd20d_00001</td><td>PENDING </td><td>                 </td><td style=\"text-align: right;\">      5</td><td style=\"text-align: right;\">          30</td><td style=\"text-align: right;\">  0.01</td><td>(32, 64, 128)</td><td style=\"text-align: right;\">           0.4</td><td style=\"text-align: right;\">            5</td><td style=\"text-align: right;\">         256</td><td style=\"text-align: right;\">0.0001</td><td>INSTANCE</td><td style=\"text-align: right;\">            1</td><td>(2, 2, 4)</td><td style=\"text-align: right;\">      </td><td style=\"text-align: right;\">                </td><td style=\"text-align: right;\">        </td></tr>\n",
       "<tr><td>train_vae_tune_dd20d_00002</td><td>PENDING </td><td>                 </td><td style=\"text-align: right;\">      1</td><td style=\"text-align: right;\">          30</td><td style=\"text-align: right;\">  0.05</td><td>(32, 64, 128)</td><td style=\"text-align: right;\">           0.4</td><td style=\"text-align: right;\">            5</td><td style=\"text-align: right;\">         256</td><td style=\"text-align: right;\">0.0001</td><td>INSTANCE</td><td style=\"text-align: right;\">            1</td><td>(2, 2, 4)</td><td style=\"text-align: right;\">      </td><td style=\"text-align: right;\">                </td><td style=\"text-align: right;\">        </td></tr>\n",
       "<tr><td>train_vae_tune_dd20d_00003</td><td>PENDING </td><td>                 </td><td style=\"text-align: right;\">      5</td><td style=\"text-align: right;\">          30</td><td style=\"text-align: right;\">  0.05</td><td>(32, 64, 128)</td><td style=\"text-align: right;\">           0.4</td><td style=\"text-align: right;\">            5</td><td style=\"text-align: right;\">         256</td><td style=\"text-align: right;\">0.0001</td><td>INSTANCE</td><td style=\"text-align: right;\">            1</td><td>(2, 2, 4)</td><td style=\"text-align: right;\">      </td><td style=\"text-align: right;\">                </td><td style=\"text-align: right;\">        </td></tr>\n",
       "<tr><td>train_vae_tune_dd20d_00004</td><td>PENDING </td><td>                 </td><td style=\"text-align: right;\">      1</td><td style=\"text-align: right;\">          30</td><td style=\"text-align: right;\">  0.1 </td><td>(32, 64, 128)</td><td style=\"text-align: right;\">           0.4</td><td style=\"text-align: right;\">            5</td><td style=\"text-align: right;\">         256</td><td style=\"text-align: right;\">0.0001</td><td>INSTANCE</td><td style=\"text-align: right;\">            1</td><td>(2, 2, 4)</td><td style=\"text-align: right;\">      </td><td style=\"text-align: right;\">                </td><td style=\"text-align: right;\">        </td></tr>\n",
       "<tr><td>train_vae_tune_dd20d_00005</td><td>PENDING </td><td>                 </td><td style=\"text-align: right;\">      5</td><td style=\"text-align: right;\">          30</td><td style=\"text-align: right;\">  0.1 </td><td>(32, 64, 128)</td><td style=\"text-align: right;\">           0.4</td><td style=\"text-align: right;\">            5</td><td style=\"text-align: right;\">         256</td><td style=\"text-align: right;\">0.0001</td><td>INSTANCE</td><td style=\"text-align: right;\">            1</td><td>(2, 2, 4)</td><td style=\"text-align: right;\">      </td><td style=\"text-align: right;\">                </td><td style=\"text-align: right;\">        </td></tr>\n",
       "<tr><td>train_vae_tune_dd20d_00006</td><td>PENDING </td><td>                 </td><td style=\"text-align: right;\">      1</td><td style=\"text-align: right;\">          30</td><td style=\"text-align: right;\">  0.5 </td><td>(32, 64, 128)</td><td style=\"text-align: right;\">           0.4</td><td style=\"text-align: right;\">            5</td><td style=\"text-align: right;\">         256</td><td style=\"text-align: right;\">0.0001</td><td>INSTANCE</td><td style=\"text-align: right;\">            1</td><td>(2, 2, 4)</td><td style=\"text-align: right;\">      </td><td style=\"text-align: right;\">                </td><td style=\"text-align: right;\">        </td></tr>\n",
       "<tr><td>train_vae_tune_dd20d_00007</td><td>PENDING </td><td>                 </td><td style=\"text-align: right;\">      5</td><td style=\"text-align: right;\">          30</td><td style=\"text-align: right;\">  0.5 </td><td>(32, 64, 128)</td><td style=\"text-align: right;\">           0.4</td><td style=\"text-align: right;\">            5</td><td style=\"text-align: right;\">         256</td><td style=\"text-align: right;\">0.0001</td><td>INSTANCE</td><td style=\"text-align: right;\">            1</td><td>(2, 2, 4)</td><td style=\"text-align: right;\">      </td><td style=\"text-align: right;\">                </td><td style=\"text-align: right;\">        </td></tr>\n",
       "<tr><td>train_vae_tune_dd20d_00008</td><td>PENDING </td><td>                 </td><td style=\"text-align: right;\">      1</td><td style=\"text-align: right;\">          30</td><td style=\"text-align: right;\">  0.01</td><td>(32, 64, 128)</td><td style=\"text-align: right;\">           0.4</td><td style=\"text-align: right;\">            5</td><td style=\"text-align: right;\">         512</td><td style=\"text-align: right;\">0.0001</td><td>INSTANCE</td><td style=\"text-align: right;\">            1</td><td>(2, 2, 4)</td><td style=\"text-align: right;\">      </td><td style=\"text-align: right;\">                </td><td style=\"text-align: right;\">        </td></tr>\n",
       "<tr><td>train_vae_tune_dd20d_00009</td><td>PENDING </td><td>                 </td><td style=\"text-align: right;\">      5</td><td style=\"text-align: right;\">          30</td><td style=\"text-align: right;\">  0.01</td><td>(32, 64, 128)</td><td style=\"text-align: right;\">           0.4</td><td style=\"text-align: right;\">            5</td><td style=\"text-align: right;\">         512</td><td style=\"text-align: right;\">0.0001</td><td>INSTANCE</td><td style=\"text-align: right;\">            1</td><td>(2, 2, 4)</td><td style=\"text-align: right;\">      </td><td style=\"text-align: right;\">                </td><td style=\"text-align: right;\">        </td></tr>\n",
       "<tr><td>train_vae_tune_dd20d_00010</td><td>PENDING </td><td>                 </td><td style=\"text-align: right;\">      1</td><td style=\"text-align: right;\">          30</td><td style=\"text-align: right;\">  0.05</td><td>(32, 64, 128)</td><td style=\"text-align: right;\">           0.4</td><td style=\"text-align: right;\">            5</td><td style=\"text-align: right;\">         512</td><td style=\"text-align: right;\">0.0001</td><td>INSTANCE</td><td style=\"text-align: right;\">            1</td><td>(2, 2, 4)</td><td style=\"text-align: right;\">      </td><td style=\"text-align: right;\">                </td><td style=\"text-align: right;\">        </td></tr>\n",
       "<tr><td>train_vae_tune_dd20d_00011</td><td>PENDING </td><td>                 </td><td style=\"text-align: right;\">      5</td><td style=\"text-align: right;\">          30</td><td style=\"text-align: right;\">  0.05</td><td>(32, 64, 128)</td><td style=\"text-align: right;\">           0.4</td><td style=\"text-align: right;\">            5</td><td style=\"text-align: right;\">         512</td><td style=\"text-align: right;\">0.0001</td><td>INSTANCE</td><td style=\"text-align: right;\">            1</td><td>(2, 2, 4)</td><td style=\"text-align: right;\">      </td><td style=\"text-align: right;\">                </td><td style=\"text-align: right;\">        </td></tr>\n",
       "<tr><td>train_vae_tune_dd20d_00012</td><td>PENDING </td><td>                 </td><td style=\"text-align: right;\">      1</td><td style=\"text-align: right;\">          30</td><td style=\"text-align: right;\">  0.1 </td><td>(32, 64, 128)</td><td style=\"text-align: right;\">           0.4</td><td style=\"text-align: right;\">            5</td><td style=\"text-align: right;\">         512</td><td style=\"text-align: right;\">0.0001</td><td>INSTANCE</td><td style=\"text-align: right;\">            1</td><td>(2, 2, 4)</td><td style=\"text-align: right;\">      </td><td style=\"text-align: right;\">                </td><td style=\"text-align: right;\">        </td></tr>\n",
       "<tr><td>train_vae_tune_dd20d_00013</td><td>PENDING </td><td>                 </td><td style=\"text-align: right;\">      5</td><td style=\"text-align: right;\">          30</td><td style=\"text-align: right;\">  0.1 </td><td>(32, 64, 128)</td><td style=\"text-align: right;\">           0.4</td><td style=\"text-align: right;\">            5</td><td style=\"text-align: right;\">         512</td><td style=\"text-align: right;\">0.0001</td><td>INSTANCE</td><td style=\"text-align: right;\">            1</td><td>(2, 2, 4)</td><td style=\"text-align: right;\">      </td><td style=\"text-align: right;\">                </td><td style=\"text-align: right;\">        </td></tr>\n",
       "<tr><td>train_vae_tune_dd20d_00014</td><td>PENDING </td><td>                 </td><td style=\"text-align: right;\">      1</td><td style=\"text-align: right;\">          30</td><td style=\"text-align: right;\">  0.5 </td><td>(32, 64, 128)</td><td style=\"text-align: right;\">           0.4</td><td style=\"text-align: right;\">            5</td><td style=\"text-align: right;\">         512</td><td style=\"text-align: right;\">0.0001</td><td>INSTANCE</td><td style=\"text-align: right;\">            1</td><td>(2, 2, 4)</td><td style=\"text-align: right;\">      </td><td style=\"text-align: right;\">                </td><td style=\"text-align: right;\">        </td></tr>\n",
       "<tr><td>train_vae_tune_dd20d_00015</td><td>PENDING </td><td>                 </td><td style=\"text-align: right;\">      5</td><td style=\"text-align: right;\">          30</td><td style=\"text-align: right;\">  0.5 </td><td>(32, 64, 128)</td><td style=\"text-align: right;\">           0.4</td><td style=\"text-align: right;\">            5</td><td style=\"text-align: right;\">         512</td><td style=\"text-align: right;\">0.0001</td><td>INSTANCE</td><td style=\"text-align: right;\">            1</td><td>(2, 2, 4)</td><td style=\"text-align: right;\">      </td><td style=\"text-align: right;\">                </td><td style=\"text-align: right;\">        </td></tr>\n",
       "<tr><td>train_vae_tune_dd20d_00016</td><td>PENDING </td><td>                 </td><td style=\"text-align: right;\">      1</td><td style=\"text-align: right;\">          30</td><td style=\"text-align: right;\">  0.01</td><td>(32, 64, 128)</td><td style=\"text-align: right;\">           0.4</td><td style=\"text-align: right;\">            5</td><td style=\"text-align: right;\">         256</td><td style=\"text-align: right;\">0.001 </td><td>INSTANCE</td><td style=\"text-align: right;\">            1</td><td>(2, 2, 4)</td><td style=\"text-align: right;\">      </td><td style=\"text-align: right;\">                </td><td style=\"text-align: right;\">        </td></tr>\n",
       "</tbody>\n",
       "</table><br><br>"
      ],
      "text/plain": [
       "<IPython.core.display.HTML object>"
      ]
     },
     "metadata": {},
     "output_type": "display_data"
    },
    {
     "name": "stderr",
     "output_type": "stream",
     "text": [
      "2022-04-13 11:58:11,667\tWARNING tune.py:596 -- SIGINT received (e.g. via Ctrl+C), ending Ray Tune run. This will try to checkpoint the experiment state one last time. Press CTRL+C one more time (or send SIGINT/SIGKILL/SIGTERM) to skip. \n"
     ]
    },
    {
     "data": {
      "text/html": [
       "== Status ==<br>Current time: 2022-04-13 11:58:11 (running for 00:00:55.18)<br>Memory usage on this node: 13.2/29.4 GiB<br>Using AsyncHyperBand: num_stopped=0\n",
       "Bracket: Iter 2.000: None | Iter 1.000: 0.7010906934738159<br>Resources requested: 1.0/8 CPUs, 1.0/1 GPUs, 0.0/12.16 GiB heap, 0.0/6.08 GiB objects (0.0/1.0 accelerator_type:T4)<br>Current best trial: dd20d_00000 with dice=0.7010906934738159 and parameters={'lr': 0.0001, 'latent_dim': 256, 'kernel_size': 5, 'dropout_rate': 0.4, 'alpha': 1, 'beta': 0.01, 'norm': 'INSTANCE', 'channel': (32, 64, 128), 'stride': (2, 2, 4), 'num_resnets': 1, 'batch_size': 30}<br>Result logdir: /home/jupyter/pl-tutorial/runs/ray/test<br>Number of trials: 17/32 (16 PENDING, 1 RUNNING)<br><table>\n",
       "<thead>\n",
       "<tr><th>Trial name                </th><th>status  </th><th>loc              </th><th style=\"text-align: right;\">  alpha</th><th style=\"text-align: right;\">  batch_size</th><th style=\"text-align: right;\">  beta</th><th>channel      </th><th style=\"text-align: right;\">  dropout_rate</th><th style=\"text-align: right;\">  kernel_size</th><th style=\"text-align: right;\">  latent_dim</th><th style=\"text-align: right;\">    lr</th><th>norm    </th><th style=\"text-align: right;\">  num_resnets</th><th>stride   </th><th style=\"text-align: right;\">  iter</th><th style=\"text-align: right;\">  total time (s)</th><th style=\"text-align: right;\">    dice</th></tr>\n",
       "</thead>\n",
       "<tbody>\n",
       "<tr><td>train_vae_tune_dd20d_00000</td><td>RUNNING </td><td>10.128.0.35:10428</td><td style=\"text-align: right;\">      1</td><td style=\"text-align: right;\">          30</td><td style=\"text-align: right;\">  0.01</td><td>(32, 64, 128)</td><td style=\"text-align: right;\">           0.4</td><td style=\"text-align: right;\">            5</td><td style=\"text-align: right;\">         256</td><td style=\"text-align: right;\">0.0001</td><td>INSTANCE</td><td style=\"text-align: right;\">            1</td><td>(2, 2, 4)</td><td style=\"text-align: right;\">     1</td><td style=\"text-align: right;\">         39.4237</td><td style=\"text-align: right;\">0.701091</td></tr>\n",
       "<tr><td>train_vae_tune_dd20d_00001</td><td>PENDING </td><td>                 </td><td style=\"text-align: right;\">      5</td><td style=\"text-align: right;\">          30</td><td style=\"text-align: right;\">  0.01</td><td>(32, 64, 128)</td><td style=\"text-align: right;\">           0.4</td><td style=\"text-align: right;\">            5</td><td style=\"text-align: right;\">         256</td><td style=\"text-align: right;\">0.0001</td><td>INSTANCE</td><td style=\"text-align: right;\">            1</td><td>(2, 2, 4)</td><td style=\"text-align: right;\">      </td><td style=\"text-align: right;\">                </td><td style=\"text-align: right;\">        </td></tr>\n",
       "<tr><td>train_vae_tune_dd20d_00002</td><td>PENDING </td><td>                 </td><td style=\"text-align: right;\">      1</td><td style=\"text-align: right;\">          30</td><td style=\"text-align: right;\">  0.05</td><td>(32, 64, 128)</td><td style=\"text-align: right;\">           0.4</td><td style=\"text-align: right;\">            5</td><td style=\"text-align: right;\">         256</td><td style=\"text-align: right;\">0.0001</td><td>INSTANCE</td><td style=\"text-align: right;\">            1</td><td>(2, 2, 4)</td><td style=\"text-align: right;\">      </td><td style=\"text-align: right;\">                </td><td style=\"text-align: right;\">        </td></tr>\n",
       "<tr><td>train_vae_tune_dd20d_00003</td><td>PENDING </td><td>                 </td><td style=\"text-align: right;\">      5</td><td style=\"text-align: right;\">          30</td><td style=\"text-align: right;\">  0.05</td><td>(32, 64, 128)</td><td style=\"text-align: right;\">           0.4</td><td style=\"text-align: right;\">            5</td><td style=\"text-align: right;\">         256</td><td style=\"text-align: right;\">0.0001</td><td>INSTANCE</td><td style=\"text-align: right;\">            1</td><td>(2, 2, 4)</td><td style=\"text-align: right;\">      </td><td style=\"text-align: right;\">                </td><td style=\"text-align: right;\">        </td></tr>\n",
       "<tr><td>train_vae_tune_dd20d_00004</td><td>PENDING </td><td>                 </td><td style=\"text-align: right;\">      1</td><td style=\"text-align: right;\">          30</td><td style=\"text-align: right;\">  0.1 </td><td>(32, 64, 128)</td><td style=\"text-align: right;\">           0.4</td><td style=\"text-align: right;\">            5</td><td style=\"text-align: right;\">         256</td><td style=\"text-align: right;\">0.0001</td><td>INSTANCE</td><td style=\"text-align: right;\">            1</td><td>(2, 2, 4)</td><td style=\"text-align: right;\">      </td><td style=\"text-align: right;\">                </td><td style=\"text-align: right;\">        </td></tr>\n",
       "<tr><td>train_vae_tune_dd20d_00005</td><td>PENDING </td><td>                 </td><td style=\"text-align: right;\">      5</td><td style=\"text-align: right;\">          30</td><td style=\"text-align: right;\">  0.1 </td><td>(32, 64, 128)</td><td style=\"text-align: right;\">           0.4</td><td style=\"text-align: right;\">            5</td><td style=\"text-align: right;\">         256</td><td style=\"text-align: right;\">0.0001</td><td>INSTANCE</td><td style=\"text-align: right;\">            1</td><td>(2, 2, 4)</td><td style=\"text-align: right;\">      </td><td style=\"text-align: right;\">                </td><td style=\"text-align: right;\">        </td></tr>\n",
       "<tr><td>train_vae_tune_dd20d_00006</td><td>PENDING </td><td>                 </td><td style=\"text-align: right;\">      1</td><td style=\"text-align: right;\">          30</td><td style=\"text-align: right;\">  0.5 </td><td>(32, 64, 128)</td><td style=\"text-align: right;\">           0.4</td><td style=\"text-align: right;\">            5</td><td style=\"text-align: right;\">         256</td><td style=\"text-align: right;\">0.0001</td><td>INSTANCE</td><td style=\"text-align: right;\">            1</td><td>(2, 2, 4)</td><td style=\"text-align: right;\">      </td><td style=\"text-align: right;\">                </td><td style=\"text-align: right;\">        </td></tr>\n",
       "<tr><td>train_vae_tune_dd20d_00007</td><td>PENDING </td><td>                 </td><td style=\"text-align: right;\">      5</td><td style=\"text-align: right;\">          30</td><td style=\"text-align: right;\">  0.5 </td><td>(32, 64, 128)</td><td style=\"text-align: right;\">           0.4</td><td style=\"text-align: right;\">            5</td><td style=\"text-align: right;\">         256</td><td style=\"text-align: right;\">0.0001</td><td>INSTANCE</td><td style=\"text-align: right;\">            1</td><td>(2, 2, 4)</td><td style=\"text-align: right;\">      </td><td style=\"text-align: right;\">                </td><td style=\"text-align: right;\">        </td></tr>\n",
       "<tr><td>train_vae_tune_dd20d_00008</td><td>PENDING </td><td>                 </td><td style=\"text-align: right;\">      1</td><td style=\"text-align: right;\">          30</td><td style=\"text-align: right;\">  0.01</td><td>(32, 64, 128)</td><td style=\"text-align: right;\">           0.4</td><td style=\"text-align: right;\">            5</td><td style=\"text-align: right;\">         512</td><td style=\"text-align: right;\">0.0001</td><td>INSTANCE</td><td style=\"text-align: right;\">            1</td><td>(2, 2, 4)</td><td style=\"text-align: right;\">      </td><td style=\"text-align: right;\">                </td><td style=\"text-align: right;\">        </td></tr>\n",
       "<tr><td>train_vae_tune_dd20d_00009</td><td>PENDING </td><td>                 </td><td style=\"text-align: right;\">      5</td><td style=\"text-align: right;\">          30</td><td style=\"text-align: right;\">  0.01</td><td>(32, 64, 128)</td><td style=\"text-align: right;\">           0.4</td><td style=\"text-align: right;\">            5</td><td style=\"text-align: right;\">         512</td><td style=\"text-align: right;\">0.0001</td><td>INSTANCE</td><td style=\"text-align: right;\">            1</td><td>(2, 2, 4)</td><td style=\"text-align: right;\">      </td><td style=\"text-align: right;\">                </td><td style=\"text-align: right;\">        </td></tr>\n",
       "<tr><td>train_vae_tune_dd20d_00010</td><td>PENDING </td><td>                 </td><td style=\"text-align: right;\">      1</td><td style=\"text-align: right;\">          30</td><td style=\"text-align: right;\">  0.05</td><td>(32, 64, 128)</td><td style=\"text-align: right;\">           0.4</td><td style=\"text-align: right;\">            5</td><td style=\"text-align: right;\">         512</td><td style=\"text-align: right;\">0.0001</td><td>INSTANCE</td><td style=\"text-align: right;\">            1</td><td>(2, 2, 4)</td><td style=\"text-align: right;\">      </td><td style=\"text-align: right;\">                </td><td style=\"text-align: right;\">        </td></tr>\n",
       "<tr><td>train_vae_tune_dd20d_00011</td><td>PENDING </td><td>                 </td><td style=\"text-align: right;\">      5</td><td style=\"text-align: right;\">          30</td><td style=\"text-align: right;\">  0.05</td><td>(32, 64, 128)</td><td style=\"text-align: right;\">           0.4</td><td style=\"text-align: right;\">            5</td><td style=\"text-align: right;\">         512</td><td style=\"text-align: right;\">0.0001</td><td>INSTANCE</td><td style=\"text-align: right;\">            1</td><td>(2, 2, 4)</td><td style=\"text-align: right;\">      </td><td style=\"text-align: right;\">                </td><td style=\"text-align: right;\">        </td></tr>\n",
       "<tr><td>train_vae_tune_dd20d_00012</td><td>PENDING </td><td>                 </td><td style=\"text-align: right;\">      1</td><td style=\"text-align: right;\">          30</td><td style=\"text-align: right;\">  0.1 </td><td>(32, 64, 128)</td><td style=\"text-align: right;\">           0.4</td><td style=\"text-align: right;\">            5</td><td style=\"text-align: right;\">         512</td><td style=\"text-align: right;\">0.0001</td><td>INSTANCE</td><td style=\"text-align: right;\">            1</td><td>(2, 2, 4)</td><td style=\"text-align: right;\">      </td><td style=\"text-align: right;\">                </td><td style=\"text-align: right;\">        </td></tr>\n",
       "<tr><td>train_vae_tune_dd20d_00013</td><td>PENDING </td><td>                 </td><td style=\"text-align: right;\">      5</td><td style=\"text-align: right;\">          30</td><td style=\"text-align: right;\">  0.1 </td><td>(32, 64, 128)</td><td style=\"text-align: right;\">           0.4</td><td style=\"text-align: right;\">            5</td><td style=\"text-align: right;\">         512</td><td style=\"text-align: right;\">0.0001</td><td>INSTANCE</td><td style=\"text-align: right;\">            1</td><td>(2, 2, 4)</td><td style=\"text-align: right;\">      </td><td style=\"text-align: right;\">                </td><td style=\"text-align: right;\">        </td></tr>\n",
       "<tr><td>train_vae_tune_dd20d_00014</td><td>PENDING </td><td>                 </td><td style=\"text-align: right;\">      1</td><td style=\"text-align: right;\">          30</td><td style=\"text-align: right;\">  0.5 </td><td>(32, 64, 128)</td><td style=\"text-align: right;\">           0.4</td><td style=\"text-align: right;\">            5</td><td style=\"text-align: right;\">         512</td><td style=\"text-align: right;\">0.0001</td><td>INSTANCE</td><td style=\"text-align: right;\">            1</td><td>(2, 2, 4)</td><td style=\"text-align: right;\">      </td><td style=\"text-align: right;\">                </td><td style=\"text-align: right;\">        </td></tr>\n",
       "<tr><td>train_vae_tune_dd20d_00015</td><td>PENDING </td><td>                 </td><td style=\"text-align: right;\">      5</td><td style=\"text-align: right;\">          30</td><td style=\"text-align: right;\">  0.5 </td><td>(32, 64, 128)</td><td style=\"text-align: right;\">           0.4</td><td style=\"text-align: right;\">            5</td><td style=\"text-align: right;\">         512</td><td style=\"text-align: right;\">0.0001</td><td>INSTANCE</td><td style=\"text-align: right;\">            1</td><td>(2, 2, 4)</td><td style=\"text-align: right;\">      </td><td style=\"text-align: right;\">                </td><td style=\"text-align: right;\">        </td></tr>\n",
       "<tr><td>train_vae_tune_dd20d_00016</td><td>PENDING </td><td>                 </td><td style=\"text-align: right;\">      1</td><td style=\"text-align: right;\">          30</td><td style=\"text-align: right;\">  0.01</td><td>(32, 64, 128)</td><td style=\"text-align: right;\">           0.4</td><td style=\"text-align: right;\">            5</td><td style=\"text-align: right;\">         256</td><td style=\"text-align: right;\">0.001 </td><td>INSTANCE</td><td style=\"text-align: right;\">            1</td><td>(2, 2, 4)</td><td style=\"text-align: right;\">      </td><td style=\"text-align: right;\">                </td><td style=\"text-align: right;\">        </td></tr>\n",
       "</tbody>\n",
       "</table><br><br>"
      ],
      "text/plain": [
       "<IPython.core.display.HTML object>"
      ]
     },
     "metadata": {},
     "output_type": "display_data"
    },
    {
     "name": "stderr",
     "output_type": "stream",
     "text": [
      "2022-04-13 11:58:11,901\tERROR tune.py:635 -- Trials did not complete: [train_vae_tune_dd20d_00000, train_vae_tune_dd20d_00001, train_vae_tune_dd20d_00002, train_vae_tune_dd20d_00003, train_vae_tune_dd20d_00004, train_vae_tune_dd20d_00005, train_vae_tune_dd20d_00006, train_vae_tune_dd20d_00007, train_vae_tune_dd20d_00008, train_vae_tune_dd20d_00009, train_vae_tune_dd20d_00010, train_vae_tune_dd20d_00011, train_vae_tune_dd20d_00012, train_vae_tune_dd20d_00013, train_vae_tune_dd20d_00014, train_vae_tune_dd20d_00015, train_vae_tune_dd20d_00016]\n",
      "2022-04-13 11:58:11,902\tINFO tune.py:639 -- Total run time: 55.43 seconds (55.18 seconds for the tuning loop).\n",
      "2022-04-13 11:58:11,902\tWARNING tune.py:644 -- Experiment has been interrupted, but the most recent state was saved. You can continue running this experiment by passing `resume=True` to `tune.run()`\n"
     ]
    },
    {
     "name": "stdout",
     "output_type": "stream",
     "text": [
      "Best hyperparameters found were:  {'lr': 0.0001, 'latent_dim': 256, 'kernel_size': 5, 'dropout_rate': 0.4, 'alpha': 1, 'beta': 0.01, 'norm': 'INSTANCE', 'channel': (32, 64, 128), 'stride': (2, 2, 4), 'num_resnets': 1, 'batch_size': 30}\n"
     ]
    }
   ],
   "source": [
    "tune_vae_asha(\n",
    "    exp_name=\"ray\",\n",
    "    run_name=\"test\",\n",
    "    num_samples=1,\n",
    "    num_epochs=2,\n",
    "    gpus_per_trial=1,\n",
    ")"
   ]
  },
  {
   "cell_type": "code",
   "execution_count": null,
   "metadata": {},
   "outputs": [],
   "source": []
  }
 ],
 "metadata": {
  "environment": {
   "kernel": "conda-env-ray-lightning-py",
   "name": "pytorch-gpu.1-10.m90",
   "type": "gcloud",
   "uri": "gcr.io/deeplearning-platform-release/pytorch-gpu.1-10:m90"
  },
  "interpreter": {
   "hash": "916dbcbb3f70747c44a77c7bcd40155683ae19c65e1c03b4aa3499c5328201f1"
  },
  "kernelspec": {
   "display_name": "Python [conda env:ray-lightning]",
   "language": "python",
   "name": "conda-env-ray-lightning-py"
  },
  "language_info": {
   "codemirror_mode": {
    "name": "ipython",
    "version": 3
   },
   "file_extension": ".py",
   "mimetype": "text/x-python",
   "name": "python",
   "nbconvert_exporter": "python",
   "pygments_lexer": "ipython3",
   "version": "3.7.7"
  }
 },
 "nbformat": 4,
 "nbformat_minor": 4
}
